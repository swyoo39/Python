{
 "cells": [
  {
   "cell_type": "markdown",
   "metadata": {},
   "source": [
    "# 자료형의 참과 거짓 > 파이썬은 데이터 중심(자바는 프로세스 중심)\n",
    "- 문자열인 경우 \"\" 안에 data가 없으면 거짓, data가 있으면 참.\n",
    "- 리스트인 경우도 [] ...\n",
    "- 튜플인 경우도 () ...\n",
    "- 딕셔너리인 경우도 {} ...\n",
    "- 숫자인 경우 0이면 거짓, 0이 아니면 참."
   ]
  },
  {
   "cell_type": "code",
   "execution_count": 1,
   "metadata": {},
   "outputs": [
    {
     "name": "stdout",
     "output_type": "stream",
     "text": [
      "4\n",
      "3\n",
      "2\n",
      "1\n"
     ]
    }
   ],
   "source": [
    "# 리스트형의 자료를 출력하면서 지우기\n",
    "var = [1,2,3,4] # true인 상태, while문 조건으로 활용\n",
    "while var:\n",
    "    print(var.pop())"
   ]
  },
  {
   "cell_type": "markdown",
   "metadata": {},
   "source": [
    "> false가 되면(변수가 비워지면) while문이 종료된다."
   ]
  },
  {
   "cell_type": "code",
   "execution_count": 2,
   "metadata": {},
   "outputs": [
    {
     "name": "stdout",
     "output_type": "stream",
     "text": [
      "False\n",
      "False\n"
     ]
    }
   ],
   "source": [
    "# 숫자의 참과 거짓\n",
    "var01 = 3\n",
    "var02 = 1\n",
    "\n",
    "print(var01 == var02)\n",
    "print(var01 is var02)"
   ]
  },
  {
   "cell_type": "code",
   "execution_count": 3,
   "metadata": {},
   "outputs": [],
   "source": [
    "# 튜플을 이용한 변수 생성\n",
    "var01, var02 = 1, 2 # 한번에 두개 변수 선언\n",
    "(var01, var02) = (1, 'Lee') # 문자열도 되고 괄호로 묶어도 괜찮다\n",
    "var01 = var02 = \"Lee\""
   ]
  },
  {
   "cell_type": "code",
   "execution_count": 5,
   "metadata": {},
   "outputs": [
    {
     "name": "stdout",
     "output_type": "stream",
     "text": [
      "Lee Lee\n",
      "Kim Lee\n"
     ]
    }
   ],
   "source": [
    "print(var01, var02)\n",
    "var01 = \"Kim\"\n",
    "print(var01, var02)"
   ]
  },
  {
   "cell_type": "code",
   "execution_count": 7,
   "metadata": {},
   "outputs": [
    {
     "name": "stdout",
     "output_type": "stream",
     "text": [
      "3 5\n",
      "5 3\n"
     ]
    }
   ],
   "source": [
    "var01, var02 = 3, 5\n",
    "print(var01, var02)\n",
    "var01, var02 = var02, var01\n",
    "print(var01, var02)"
   ]
  },
  {
   "cell_type": "code",
   "execution_count": 9,
   "metadata": {},
   "outputs": [
    {
     "name": "stdout",
     "output_type": "stream",
     "text": [
      "[1, 4, 6] [1, 4, 6]\n",
      "True\n"
     ]
    }
   ],
   "source": [
    "# 리스트의 복사\n",
    "var01 = [1,2,3]\n",
    "var02 = var01\n",
    "var01[1]=4\n",
    "var02[2]=6\n",
    "print(var01, var02)\n",
    "print(var01 is var02)"
   ]
  },
  {
   "cell_type": "markdown",
   "metadata": {},
   "source": [
    "> call by reference : 쌍둥이 리스트를 만들기, 같은 데이터를 가진다"
   ]
  },
  {
   "cell_type": "code",
   "execution_count": 10,
   "metadata": {},
   "outputs": [
    {
     "name": "stdout",
     "output_type": "stream",
     "text": [
      "[1, 4, 3] [1, 2, 3]\n"
     ]
    }
   ],
   "source": [
    "# Slicing을 이용한 리스트의 복사\n",
    "var01 = [1,2,3]\n",
    "var02 = var01[:] # 데이터만 가져온다\n",
    "var01[1] = 4\n",
    "print(var01, var02)"
   ]
  },
  {
   "cell_type": "code",
   "execution_count": 11,
   "metadata": {},
   "outputs": [
    {
     "name": "stdout",
     "output_type": "stream",
     "text": [
      "[1, 4, 3] [1, 2, 3]\n"
     ]
    }
   ],
   "source": [
    "# Module을 이용한 리스트의 복사\n",
    "from copy import copy\n",
    "\n",
    "var01 = [1,2,3]\n",
    "var02 = copy(var01)\n",
    "var01[1] = 4\n",
    "print(var01, var02)"
   ]
  },
  {
   "cell_type": "markdown",
   "metadata": {},
   "source": [
    "> 보통은 copy 모듈보다 slicing을 사용한다"
   ]
  },
  {
   "cell_type": "code",
   "execution_count": 13,
   "metadata": {},
   "outputs": [
    {
     "name": "stdout",
     "output_type": "stream",
     "text": [
      "True False\n"
     ]
    }
   ],
   "source": [
    "# 리스트의 데이터 유무를 판단하여 True와 False값을 return 하기\n",
    "\n",
    "var = [1,2,3,4]\n",
    "print(4 in var, 5 in var)"
   ]
  }
 ],
 "metadata": {
  "kernelspec": {
   "display_name": "Python 3.9.7 ('base')",
   "language": "python",
   "name": "python3"
  },
  "language_info": {
   "codemirror_mode": {
    "name": "ipython",
    "version": 3
   },
   "file_extension": ".py",
   "mimetype": "text/x-python",
   "name": "python",
   "nbconvert_exporter": "python",
   "pygments_lexer": "ipython3",
   "version": "3.9.7"
  },
  "orig_nbformat": 4,
  "vscode": {
   "interpreter": {
    "hash": "c34e8390e776d2ee205b71ed5a6130fee3cef8da5e87e926ce18e14f4a070d72"
   }
  }
 },
 "nbformat": 4,
 "nbformat_minor": 2
}
