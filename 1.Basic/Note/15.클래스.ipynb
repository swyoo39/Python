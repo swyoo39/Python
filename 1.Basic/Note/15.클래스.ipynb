{
 "cells": [
  {
   "cell_type": "markdown",
   "metadata": {},
   "source": [
    "# Class"
   ]
  },
  {
   "cell_type": "code",
   "execution_count": 1,
   "metadata": {},
   "outputs": [],
   "source": [
    "# class 선언\n",
    "\n",
    "class Services:\n",
    "  # property\n",
    "  secret = \"임금님 귀는 당나귀 귀다!\""
   ]
  },
  {
   "cell_type": "code",
   "execution_count": 2,
   "metadata": {},
   "outputs": [
    {
     "name": "stdout",
     "output_type": "stream",
     "text": [
      "임금님 귀는 당나귀 귀다!\n"
     ]
    }
   ],
   "source": [
    "# instance를 만들어서 class를 사용\n",
    "instance01 = Services()\n",
    "print(instance01.secret)"
   ]
  },
  {
   "cell_type": "code",
   "execution_count": 3,
   "metadata": {},
   "outputs": [],
   "source": [
    "class Services:\n",
    "  # property\n",
    "  secret = \"임금님 귀는 당나귀 귀다!\"\n",
    "\n",
    "  # method\n",
    "  def sum(self, num01, num02):\n",
    "    result = num01 + num02\n",
    "    print(\"%d + %d = %d 입니다.\"%(num01, num02, result))"
   ]
  },
  {
   "cell_type": "code",
   "execution_count": 5,
   "metadata": {},
   "outputs": [
    {
     "name": "stdout",
     "output_type": "stream",
     "text": [
      "임금님 귀는 당나귀 귀다!\n",
      "2 + 3 = 5 입니다.\n",
      "None\n"
     ]
    }
   ],
   "source": [
    "# 함수에 return값을 안주면 항상 none이 뜬다\n",
    "instance01 = Services()\n",
    "print(instance01.secret)\n",
    "print(instance01.sum(2,3))"
   ]
  },
  {
   "cell_type": "code",
   "execution_count": 6,
   "metadata": {},
   "outputs": [],
   "source": [
    "class Services:\n",
    "  # property\n",
    "  name = \"\"\n",
    "  secret = \"임금님 귀는 당나귀 귀다!\"\n",
    "\n",
    "  # method\n",
    "  def setname(self, name):\n",
    "    self.name = name\n",
    "\n",
    "  def sum(self, num01, num02):\n",
    "    result = num01 + num02\n",
    "    print(\"%s님! %d + %d = %d 입니다.\"%(self.name ,num01, num02, result))"
   ]
  },
  {
   "cell_type": "code",
   "execution_count": 8,
   "metadata": {},
   "outputs": [
    {
     "name": "stdout",
     "output_type": "stream",
     "text": [
      "유비님! 2 + 3 = 5 입니다.\n",
      "None\n"
     ]
    }
   ],
   "source": [
    "instance01 = Services()\n",
    "instance01.setname(\"유비\")\n",
    "print(instance01.sum(2,3))"
   ]
  },
  {
   "cell_type": "code",
   "execution_count": 11,
   "metadata": {},
   "outputs": [],
   "source": [
    "class Services:\n",
    "  # property\n",
    "  name = \"\"\n",
    "  secret = \"임금님 귀는 당나귀 귀다!\"\n",
    "\n",
    "  # constructor\n",
    "  def __init__(self, name):\n",
    "    self.name = name\n",
    "\n",
    "  # method\n",
    "  def sum(self, num01, num02):\n",
    "    result = num01 + num02\n",
    "    print(\"%s님! %d + %d = %d 입니다.\"%(self.name ,num01, num02, result))"
   ]
  },
  {
   "cell_type": "code",
   "execution_count": 12,
   "metadata": {},
   "outputs": [
    {
     "name": "stdout",
     "output_type": "stream",
     "text": [
      "관우님! 2 + 3 = 5 입니다.\n"
     ]
    }
   ],
   "source": [
    "instance01 = Services(\"관우\")\n",
    "instance01.sum(2,3)"
   ]
  },
  {
   "cell_type": "code",
   "execution_count": 13,
   "metadata": {},
   "outputs": [],
   "source": [
    "# 연습문제 - class 만들기\n",
    "# 주어진 것들 :\n",
    "# calc01 = Calc()\n",
    "# calc01.setData(4,2)\n",
    "# print(\"덧셈\", calc01.sum())\n",
    "# print(\"곱셈\", calc01.mul())\n",
    "# print(\"뺄셈\", calc01.sub())\n",
    "# print(\"나눗셈\", calc01.div())\n",
    "\n",
    "# 이를 출력하는 class 만들어보기\n",
    "\n",
    "class Calc:\n",
    "  # property\n",
    "  # 프로퍼티를 안적어줘도 밑에서 self.num1, 2으로 만들면 자체 생성이 된다\n",
    "  # num1 = 0\n",
    "  # num2 = 0\n",
    "\n",
    "  # method\n",
    "  def setData(self, a, b):\n",
    "    self.num1 = a\n",
    "    self.num2 = b\n",
    "\n",
    "  def sum(self):\n",
    "    return (self.num1 + self.num2)\n",
    "  def mul(self):\n",
    "    return (self.num1 * self.num2)\n",
    "  def sub(self):\n",
    "    return (self.num1 - self.num2)\n",
    "  def div(self):\n",
    "    return (self.num1 / self.num2)"
   ]
  },
  {
   "cell_type": "code",
   "execution_count": 14,
   "metadata": {},
   "outputs": [
    {
     "name": "stdout",
     "output_type": "stream",
     "text": [
      "덧셈 6\n",
      "곱셈 8\n",
      "뺄셈 2\n",
      "나눗셈 2.0\n"
     ]
    }
   ],
   "source": [
    "calc01 = Calc()\n",
    "calc01.setData(4,2)\n",
    "print(\"덧셈\", calc01.sum())\n",
    "print(\"곱셈\", calc01.mul())\n",
    "print(\"뺄셈\", calc01.sub())\n",
    "print(\"나눗셈\", calc01.div())"
   ]
  }
 ],
 "metadata": {
  "kernelspec": {
   "display_name": "Python 3.9.7 ('base')",
   "language": "python",
   "name": "python3"
  },
  "language_info": {
   "codemirror_mode": {
    "name": "ipython",
    "version": 3
   },
   "file_extension": ".py",
   "mimetype": "text/x-python",
   "name": "python",
   "nbconvert_exporter": "python",
   "pygments_lexer": "ipython3",
   "version": "3.9.7"
  },
  "orig_nbformat": 4,
  "vscode": {
   "interpreter": {
    "hash": "c34e8390e776d2ee205b71ed5a6130fee3cef8da5e87e926ce18e14f4a070d72"
   }
  }
 },
 "nbformat": 4,
 "nbformat_minor": 2
}
