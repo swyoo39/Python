{
 "cells": [
  {
   "cell_type": "markdown",
   "metadata": {},
   "source": [
    "### 몬테카를로 시뮬레이션\n",
    ": 자료가 없을 경우 난수를 통해서 가설을 증명한다."
   ]
  },
  {
   "cell_type": "code",
   "execution_count": null,
   "metadata": {},
   "outputs": [],
   "source": [
    "# 동전의 앞면과 뒷면이 나올 확률이 같다는 것을 증명"
   ]
  },
  {
   "cell_type": "code",
   "execution_count": 1,
   "metadata": {},
   "outputs": [],
   "source": [
    "import random"
   ]
  },
  {
   "cell_type": "code",
   "execution_count": 30,
   "metadata": {},
   "outputs": [
    {
     "data": {
      "text/plain": [
       "5"
      ]
     },
     "execution_count": 30,
     "metadata": {},
     "output_type": "execute_result"
    }
   ],
   "source": [
    "random.randint(1, 10)"
   ]
  },
  {
   "cell_type": "code",
   "execution_count": 34,
   "metadata": {},
   "outputs": [],
   "source": [
    "def coinF(n):\n",
    "    coinFront = coinRear = 0\n",
    "    for i in range(1, n+1):\n",
    "        x = random.randint(1, 2)\n",
    "        if x == 1:\n",
    "            coinFront += 1\n",
    "        else:\n",
    "            coinRear += 1\n",
    "    print('%7d번 시도 시 동전의 앞면은 %6d번, 뒷면은 %6d번 나옵니다.'%(n, coinFront, coinRear))"
   ]
  },
  {
   "cell_type": "code",
   "execution_count": 32,
   "metadata": {},
   "outputs": [
    {
     "name": "stdout",
     "output_type": "stream",
     "text": [
      "     10번 시도 시 동전의 앞면은      3번, 뒷면은      7번 나옵니다.\n",
      "    100번 시도 시 동전의 앞면은     58번, 뒷면은     42번 나옵니다.\n",
      "   1000번 시도 시 동전의 앞면은    484번, 뒷면은    516번 나옵니다.\n",
      "  10000번 시도 시 동전의 앞면은   4987번, 뒷면은   5013번 나옵니다.\n",
      " 100000번 시도 시 동전의 앞면은  50010번, 뒷면은  49990번 나옵니다.\n"
     ]
    }
   ],
   "source": [
    "coinF(10)\n",
    "coinF(100)\n",
    "coinF(1000)\n",
    "coinF(10000)\n",
    "coinF(100000)"
   ]
  },
  {
   "cell_type": "code",
   "execution_count": 41,
   "metadata": {},
   "outputs": [],
   "source": [
    "def RPS(n):\n",
    "    rock = paper = scissor = 0\n",
    "    rpsL=[0,0,0]\n",
    "    for i in range(1, n+1):\n",
    "        x = random.randint(1, 3)\n",
    "        rpsL[x-1] += 1\n",
    "        # if x == 1:\n",
    "        #     rpsL[x-1] += 1\n",
    "        #     rock += 1\n",
    "        # elif x == 2:\n",
    "        #     paper += 1\n",
    "        # else:\n",
    "        #     scissor += 1\n",
    "    print('%7d번 시도 시 가위는 %6d번, 바위는 %6d번, 보는 %6d번 나옵니다.'%(n, rpsL[0], rpsL[1], rpsL[2]))\n",
    "    # print('%7d번 시도 시 가위는 %6d번, 바위는 %6d번, 보는 %6d번 나옵니다.'%(n, rock, paper, scissor))"
   ]
  },
  {
   "cell_type": "code",
   "execution_count": 42,
   "metadata": {},
   "outputs": [
    {
     "name": "stdout",
     "output_type": "stream",
     "text": [
      "     10번 시도 시 가위는      4번, 바위는      3번, 보는      3번 나옵니다.\n",
      "    100번 시도 시 가위는     39번, 바위는     29번, 보는     32번 나옵니다.\n",
      "   1000번 시도 시 가위는    326번, 바위는    347번, 보는    327번 나옵니다.\n",
      "  10000번 시도 시 가위는   3364번, 바위는   3300번, 보는   3336번 나옵니다.\n",
      " 100000번 시도 시 가위는  33353번, 바위는  33427번, 보는  33220번 나옵니다.\n"
     ]
    }
   ],
   "source": [
    "RPS(10)\n",
    "RPS(100)\n",
    "RPS(1000)\n",
    "RPS(10000)\n",
    "RPS(100000)"
   ]
  },
  {
   "cell_type": "code",
   "execution_count": null,
   "metadata": {},
   "outputs": [],
   "source": []
  }
 ],
 "metadata": {
  "kernelspec": {
   "display_name": "Python 3.9.7 ('base')",
   "language": "python",
   "name": "python3"
  },
  "language_info": {
   "codemirror_mode": {
    "name": "ipython",
    "version": 3
   },
   "file_extension": ".py",
   "mimetype": "text/x-python",
   "name": "python",
   "nbconvert_exporter": "python",
   "pygments_lexer": "ipython3",
   "version": "3.9.7"
  },
  "orig_nbformat": 4,
  "vscode": {
   "interpreter": {
    "hash": "c34e8390e776d2ee205b71ed5a6130fee3cef8da5e87e926ce18e14f4a070d72"
   }
  }
 },
 "nbformat": 4,
 "nbformat_minor": 2
}
