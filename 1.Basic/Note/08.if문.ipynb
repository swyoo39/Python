{
 "cells": [
  {
   "cell_type": "code",
   "execution_count": 1,
   "metadata": {},
   "outputs": [],
   "source": [
    "from random import randint"
   ]
  },
  {
   "cell_type": "code",
   "execution_count": 2,
   "metadata": {},
   "outputs": [
    {
     "data": {
      "text/plain": [
       "68"
      ]
     },
     "execution_count": 2,
     "metadata": {},
     "output_type": "execute_result"
    }
   ],
   "source": [
    "randint(1,100)"
   ]
  },
  {
   "cell_type": "code",
   "execution_count": 16,
   "metadata": {},
   "outputs": [
    {
     "name": "stdout",
     "output_type": "stream",
     "text": [
      "0보다 큽니다.\n"
     ]
    }
   ],
   "source": [
    "x = randint(1,100)\n",
    "if x > 70:\n",
    "    print(\"70보다 큽니다.\")\n",
    "elif x > 50:\n",
    "    print(\"50보다 큽니다.\")\n",
    "elif x > 30:\n",
    "    print(\"30보다 큽니다.\")\n",
    "else :\n",
    "    print(\"0보다 큽니다.\")"
   ]
  },
  {
   "cell_type": "code",
   "execution_count": 45,
   "metadata": {},
   "outputs": [
    {
     "name": "stdout",
     "output_type": "stream",
     "text": [
      "27\n",
      "x는 홀수입니다.\n"
     ]
    }
   ],
   "source": [
    "# 홀짝수 구분\n",
    "x = randint(1,100)\n",
    "print(x)\n",
    "if x % 2 == 0 :\n",
    "    print(\"x는 짝수입니다.\")\n",
    "else :\n",
    "    print(\"x는 홀수입니다.\")"
   ]
  },
  {
   "cell_type": "code",
   "execution_count": 46,
   "metadata": {},
   "outputs": [
    {
     "data": {
      "text/plain": [
       "'hi'"
      ]
     },
     "execution_count": 46,
     "metadata": {},
     "output_type": "execute_result"
    }
   ],
   "source": [
    "# 사용자로부터 숫자를 입력받기\n",
    "input(\"숫자를 입력하세요 : \") # 문자열을 받아온다."
   ]
  },
  {
   "cell_type": "code",
   "execution_count": 49,
   "metadata": {},
   "outputs": [
    {
     "name": "stdout",
     "output_type": "stream",
     "text": [
      "12\n"
     ]
    },
    {
     "data": {
      "text/plain": [
       "int"
      ]
     },
     "execution_count": 49,
     "metadata": {},
     "output_type": "execute_result"
    }
   ],
   "source": [
    "number = int(input(\"숫자를 입력하세요 : \")) # 숫자를 받아온다.\n",
    "print(number)\n",
    "type(number)"
   ]
  },
  {
   "cell_type": "code",
   "execution_count": 52,
   "metadata": {},
   "outputs": [
    {
     "name": "stdout",
     "output_type": "stream",
     "text": [
      "12 입력하신 수는 짝수입니다.\n"
     ]
    }
   ],
   "source": [
    "num1 = int(input(\"숫자를 입력하세요 : \")) # 숫자를 받아온다.\n",
    "if(num1 % 2 == 0) :\n",
    "    print(num1, '입력하신 수는 짝수입니다.')\n",
    "else :\n",
    "    print(num1, '입력하신 수는 홀수입니다.')\n",
    "    "
   ]
  },
  {
   "cell_type": "code",
   "execution_count": 71,
   "metadata": {},
   "outputs": [
    {
     "name": "stdout",
     "output_type": "stream",
     "text": [
      "시험 결과 75 점이고, 학점은 C입니다.\n"
     ]
    }
   ],
   "source": [
    "score = int(input(\"학점을 입력하세요 : \")) # 숫자를 받아온다.\n",
    "group = [60,70,80,90,100]\n",
    "result = ['F','D','C','B','A']\n",
    "\n",
    "for i in range(len(group)) :\n",
    "    if(score < group[i]) :\n",
    "        print(f'시험 결과 {score} 점이고, 학점은 {result[i]}입니다.')\n",
    "        break\n",
    "    # elif(score > 80) :\n",
    "    #     print(f'시험 결과 {score} 점이고, 학점은 B입니다.')\n",
    "    # elif(score > 70) :\n",
    "    #     print(f'시험 결과 {score} 점이고, 학점은 C입니다.')\n",
    "    # elif(score > 60) :\n",
    "    #     print(f'시험 결과 {score} 점이고, 학점은 D입니다.')\n",
    "    # else :\n",
    "    #     print(f'시험 결과 {score} 점이고, 학점은 F입니다.')"
   ]
  },
  {
   "cell_type": "code",
   "execution_count": 59,
   "metadata": {},
   "outputs": [],
   "source": [
    "import math"
   ]
  },
  {
   "cell_type": "code",
   "execution_count": 74,
   "metadata": {},
   "outputs": [
    {
     "name": "stdout",
     "output_type": "stream",
     "text": [
      "입력하신 수는 10이고, 제곱근은 3.16입니다.\n"
     ]
    }
   ],
   "source": [
    "# 사용자로부터 숫자를 입력받아 5의 배수이면 제곱근을 구하고, 아니면 원래 수를 출력하기\n",
    "num1 = int(input(\"숫자를 입력하세요 : \")) # 숫자를 받아온다.\n",
    "if(num1 % 5 == 0) :\n",
    "    print('입력하신 수는 %d이고, 제곱근은 %.2f입니다.'%(num1,math.sqrt(num1)))\n",
    "else :\n",
    "    print('입력하신 수는 %d이고, 5의 배수가 아닙니다.'%num1)"
   ]
  },
  {
   "cell_type": "code",
   "execution_count": 75,
   "metadata": {},
   "outputs": [
    {
     "name": "stdout",
     "output_type": "stream",
     "text": [
      "카드로 택시타기!\n",
      "--- End ---\n"
     ]
    }
   ],
   "source": [
    "# list의 내용을 if문으로 확인하기\n",
    "pocket = ['paper','smartphone']\n",
    "card = 1\n",
    "\n",
    "if 'money' in pocket:\n",
    "    print(\"현금으로 택시타기!\")\n",
    "elif card:\n",
    "    print(\"카드로 택시타기!\")\n",
    "else:\n",
    "    print(\"튼튼한 다리로 걷기!\")\n",
    "print(\"--- End ---\")"
   ]
  },
  {
   "cell_type": "code",
   "execution_count": 77,
   "metadata": {},
   "outputs": [
    {
     "name": "stdout",
     "output_type": "stream",
     "text": [
      "6\n"
     ]
    }
   ],
   "source": [
    "# 삼항 연산자\n",
    "# 변수 = true실행값 if 조건문 else false실행값\n",
    "num = 4\n",
    "result = 0\n",
    "\n",
    "result = num * 2 if num >= 5 else num + 2\n",
    "print(result)"
   ]
  },
  {
   "cell_type": "code",
   "execution_count": null,
   "metadata": {},
   "outputs": [],
   "source": []
  }
 ],
 "metadata": {
  "kernelspec": {
   "display_name": "Python 3.9.7 ('base')",
   "language": "python",
   "name": "python3"
  },
  "language_info": {
   "codemirror_mode": {
    "name": "ipython",
    "version": 3
   },
   "file_extension": ".py",
   "mimetype": "text/x-python",
   "name": "python",
   "nbconvert_exporter": "python",
   "pygments_lexer": "ipython3",
   "version": "3.9.7"
  },
  "orig_nbformat": 4,
  "vscode": {
   "interpreter": {
    "hash": "c34e8390e776d2ee205b71ed5a6130fee3cef8da5e87e926ce18e14f4a070d72"
   }
  }
 },
 "nbformat": 4,
 "nbformat_minor": 2
}
