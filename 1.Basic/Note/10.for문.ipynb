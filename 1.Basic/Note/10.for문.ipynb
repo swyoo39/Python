{
 "cells": [
  {
   "cell_type": "markdown",
   "metadata": {},
   "source": [
    "### for문의 기본 : range 함수"
   ]
  },
  {
   "cell_type": "code",
   "execution_count": null,
   "metadata": {},
   "outputs": [],
   "source": [
    "list(range(1, 11))"
   ]
  },
  {
   "cell_type": "code",
   "execution_count": null,
   "metadata": {},
   "outputs": [],
   "source": [
    "list(range(1, 11, 2))"
   ]
  },
  {
   "cell_type": "code",
   "execution_count": null,
   "metadata": {},
   "outputs": [],
   "source": [
    "list(range(10, 0, -2))"
   ]
  },
  {
   "cell_type": "code",
   "execution_count": null,
   "metadata": {},
   "outputs": [],
   "source": [
    "list(range(0, 10, -2))\n",
    "# 에러는 안난다.."
   ]
  },
  {
   "cell_type": "code",
   "execution_count": null,
   "metadata": {},
   "outputs": [],
   "source": [
    "for i in range(1,11):\n",
    "    print(i)"
   ]
  },
  {
   "cell_type": "code",
   "execution_count": null,
   "metadata": {},
   "outputs": [],
   "source": [
    "import math"
   ]
  },
  {
   "cell_type": "code",
   "execution_count": null,
   "metadata": {},
   "outputs": [],
   "source": [
    "# 1에서 10까지의 제곱근을 출력하기\n",
    "for i in range(1,11):\n",
    "    print('%.2f'%math.sqrt(i))"
   ]
  },
  {
   "cell_type": "code",
   "execution_count": 11,
   "metadata": {},
   "outputs": [
    {
     "name": "stdout",
     "output_type": "stream",
     "text": [
      "9 * 1 =  9\n",
      "9 * 2 = 18\n",
      "9 * 3 = 27\n",
      "9 * 4 = 36\n",
      "9 * 5 = 45\n",
      "9 * 6 = 54\n",
      "9 * 7 = 63\n",
      "9 * 8 = 72\n",
      "9 * 9 = 81\n"
     ]
    }
   ],
   "source": [
    "# 구구단 9단 출력\n",
    "i = 9\n",
    "for j in range(1,10):\n",
    "    print(i,'*',j,'=','%2d'%(i*j))"
   ]
  },
  {
   "cell_type": "code",
   "execution_count": 18,
   "metadata": {},
   "outputs": [
    {
     "name": "stdout",
     "output_type": "stream",
     "text": [
      "2 * 1 =  2 , 2 * 2 =  4 , 2 * 3 =  6 , 2 * 4 =  8 , 2 * 5 = 10 , 2 * 6 = 12 , 2 * 7 = 14 , 2 * 8 = 16 , 2 * 9 = 18 , \n",
      "3 * 1 =  3 , 3 * 2 =  6 , 3 * 3 =  9 , 3 * 4 = 12 , 3 * 5 = 15 , 3 * 6 = 18 , 3 * 7 = 21 , 3 * 8 = 24 , 3 * 9 = 27 , \n",
      "4 * 1 =  4 , 4 * 2 =  8 , 4 * 3 = 12 , 4 * 4 = 16 , 4 * 5 = 20 , 4 * 6 = 24 , 4 * 7 = 28 , 4 * 8 = 32 , 4 * 9 = 36 , \n",
      "5 * 1 =  5 , 5 * 2 = 10 , 5 * 3 = 15 , 5 * 4 = 20 , 5 * 5 = 25 , 5 * 6 = 30 , 5 * 7 = 35 , 5 * 8 = 40 , 5 * 9 = 45 , \n",
      "6 * 1 =  6 , 6 * 2 = 12 , 6 * 3 = 18 , 6 * 4 = 24 , 6 * 5 = 30 , 6 * 6 = 36 , 6 * 7 = 42 , 6 * 8 = 48 , 6 * 9 = 54 , \n",
      "7 * 1 =  7 , 7 * 2 = 14 , 7 * 3 = 21 , 7 * 4 = 28 , 7 * 5 = 35 , 7 * 6 = 42 , 7 * 7 = 49 , 7 * 8 = 56 , 7 * 9 = 63 , \n",
      "8 * 1 =  8 , 8 * 2 = 16 , 8 * 3 = 24 , 8 * 4 = 32 , 8 * 5 = 40 , 8 * 6 = 48 , 8 * 7 = 56 , 8 * 8 = 64 , 8 * 9 = 72 , \n",
      "9 * 1 =  9 , 9 * 2 = 18 , 9 * 3 = 27 , 9 * 4 = 36 , 9 * 5 = 45 , 9 * 6 = 54 , 9 * 7 = 63 , 9 * 8 = 72 , 9 * 9 = 81 , \n"
     ]
    }
   ],
   "source": [
    "# 구구단 결과만 출력하기\n",
    "for i in range(2,10):\n",
    "    for j in range(1,10):\n",
    "        print(i,'*',j,'=',\"%2d\"%(i*j),end=' , ')\n",
    "    print()"
   ]
  },
  {
   "cell_type": "code",
   "execution_count": 2,
   "metadata": {},
   "outputs": [
    {
     "name": "stdout",
     "output_type": "stream",
     "text": [
      "1 : 2\n",
      "3 : 4\n",
      "5 : 6\n"
     ]
    }
   ],
   "source": [
    "# for문에 Tuple 사용하기\n",
    "var = [(1,2),(3,4),(5,6)]\n",
    "for first, last in var: # 2개가 1세트\n",
    "    print(first,':',last)"
   ]
  },
  {
   "cell_type": "markdown",
   "metadata": {},
   "source": [
    "총 5명의 학생이 시험을 봤는데, 점수가 60 이상이면 합격이고 아니면 불합격이다.\n",
    "### 합격/불합격 보여주기"
   ]
  },
  {
   "cell_type": "code",
   "execution_count": 7,
   "metadata": {},
   "outputs": [
    {
     "name": "stdout",
     "output_type": "stream",
     "text": [
      "1의 학생은 합격입니다.\n",
      "2의 학생은 불합격입니다.\n",
      "3의 학생은 합격입니다.\n",
      "4의 학생은 불합격입니다.\n",
      "5의 학생은 합격입니다.\n"
     ]
    }
   ],
   "source": [
    "scores = [90,25,67,45,80]\n",
    "for number in range(len(scores)):\n",
    "    if(scores[number]>=60):\n",
    "        print(f'{number+1}의 학생은 합격입니다.')\n",
    "    else:\n",
    "        print(f'{number+1}의 학생은 불합격입니다.')\n"
   ]
  },
  {
   "cell_type": "code",
   "execution_count": 14,
   "metadata": {},
   "outputs": [
    {
     "name": "stdout",
     "output_type": "stream",
     "text": [
      "1의 학생은 합격입니다.\n",
      "2의 학생은 불합격입니다.\n",
      "3의 학생은 합격입니다.\n",
      "4의 학생은 불합격입니다.\n",
      "5의 학생은 합격입니다.\n"
     ]
    }
   ],
   "source": [
    "for number in range(len(scores)):\n",
    "    print(f'{number+1}의 학생은', '합격입니다.' if scores[number]>=60 else '불합격입니다.')"
   ]
  },
  {
   "cell_type": "code",
   "execution_count": 25,
   "metadata": {},
   "outputs": [
    {
     "name": "stdout",
     "output_type": "stream",
     "text": [
      "[]\n"
     ]
    }
   ],
   "source": [
    "len(scores)\n",
    "print(scores)"
   ]
  },
  {
   "cell_type": "code",
   "execution_count": 37,
   "metadata": {},
   "outputs": [
    {
     "name": "stdout",
     "output_type": "stream",
     "text": [
      "1의 학생은 합격입니다.\n",
      "2의 학생은 불합격입니다.\n",
      "3의 학생은 합격입니다.\n",
      "4의 학생은 불합격입니다.\n",
      "5의 학생은 합격입니다.\n"
     ]
    }
   ],
   "source": [
    "scores = [90,25,67,45,80]\n",
    "number = 0\n",
    "for score in scores:\n",
    "    print(f'{number+1}의 학생은 {\"합격\" if score>=60 else \"불합격\"}입니다.')\n",
    "    number+=1"
   ]
  },
  {
   "cell_type": "code",
   "execution_count": 35,
   "metadata": {},
   "outputs": [
    {
     "name": "stdout",
     "output_type": "stream",
     "text": [
      "1의 학생은 점수가 90이므로 합격입니다.\n",
      "2의 학생은 점수가 25이어서 불합격입니다.\n",
      "3의 학생은 점수가 67이므로 합격입니다.\n",
      "4의 학생은 점수가 45이어서 불합격입니다.\n",
      "5의 학생은 점수가 80이므로 합격입니다.\n"
     ]
    }
   ],
   "source": [
    "scores = [90,25,67,45,80]\n",
    "number = 0\n",
    "for score in scores:\n",
    "    number+=1\n",
    "    print(f\"{number}의 학생은 점수가 {score}{'이므로 합격' if score>=60 else '이어서 불합격'}입니다.\")\n"
   ]
  },
  {
   "cell_type": "markdown",
   "metadata": {},
   "source": [
    "### 학생들 점수의 평균을 구하여 평균점수보다 낮으면 불합격, 평균점수보다 같거나 높으면 합격"
   ]
  },
  {
   "cell_type": "code",
   "execution_count": 39,
   "metadata": {},
   "outputs": [],
   "source": [
    "import numpy as np"
   ]
  },
  {
   "cell_type": "code",
   "execution_count": 43,
   "metadata": {},
   "outputs": [
    {
     "name": "stdout",
     "output_type": "stream",
     "text": [
      "학급의 평균 점수는 61.40입니다.\n",
      "\n",
      "1의 학생은 점수가 90이므로 합격입니다.\n",
      "2의 학생은 점수가 25이어서 불합격입니다.\n",
      "3의 학생은 점수가 67이므로 합격입니다.\n",
      "4의 학생은 점수가 45이어서 불합격입니다.\n",
      "5의 학생은 점수가 80이므로 합격입니다.\n"
     ]
    }
   ],
   "source": [
    "scores = [90,25,67,45,80]\n",
    "number = 0\n",
    "\n",
    "print('학급의 평균 점수는 %.2f입니다.\\n'%np.mean(scores))\n",
    "for score in scores:\n",
    "    number+=1\n",
    "    print(f\"{number}의 학생은 점수가 {score}{'이므로 합격' if score>=np.mean(scores) else '이어서 불합격'}입니다.\")"
   ]
  },
  {
   "cell_type": "code",
   "execution_count": 45,
   "metadata": {},
   "outputs": [
    {
     "name": "stdout",
     "output_type": "stream",
     "text": [
      "학급의 평균 점수는 61.40입니다.\n",
      "\n",
      "1의 학생은 합격입니다.\n",
      "3의 학생은 합격입니다.\n",
      "5의 학생은 합격입니다.\n"
     ]
    }
   ],
   "source": [
    "scores = [90,25,67,45,80]\n",
    "number = 0\n",
    "\n",
    "print('학급의 평균 점수는 %.2f입니다.\\n'%np.mean(scores))\n",
    "for score in scores:\n",
    "    number+=1\n",
    "    if(score>=np.mean(scores)):\n",
    "        print(f\"{number}의 학생은 합격입니다.\")"
   ]
  },
  {
   "cell_type": "code",
   "execution_count": 78,
   "metadata": {},
   "outputs": [
    {
     "name": "stdout",
     "output_type": "stream",
     "text": [
      " 합격자 번호  \n",
      "-----------\n",
      "     1     \n",
      "     3     \n",
      "     5     \n"
     ]
    }
   ],
   "source": [
    "scores = [90,25,67,45,80]\n",
    "number = 0\n",
    "pass1 = []\n",
    "\n",
    "print('{:^9}'.format('합격자 번호'))\n",
    "print('-----------')\n",
    "for score in scores:\n",
    "    number+=1\n",
    "    if(score>=np.mean(scores)):\n",
    "        pass1.append(number)\n",
    "        print(\"{:^11}\".format(pass1[len(pass1)-1]))"
   ]
  },
  {
   "cell_type": "markdown",
   "metadata": {},
   "source": [
    "---\n",
    "### 문장과 단어 추출"
   ]
  },
  {
   "cell_type": "code",
   "execution_count": 84,
   "metadata": {},
   "outputs": [],
   "source": [
    "string = \"\"\"나는 홍길동 입니다.\n",
    "주소는 서울시 입니다.\n",
    "나이는 35세 입니다.\n",
    "\"\"\""
   ]
  },
  {
   "cell_type": "code",
   "execution_count": 85,
   "metadata": {},
   "outputs": [
    {
     "data": {
      "text/plain": [
       "'나는 홍길동 입니다.\\n주소는 서울시 입니다.\\n나이는 35세 입니다.\\n'"
      ]
     },
     "execution_count": 85,
     "metadata": {},
     "output_type": "execute_result"
    }
   ],
   "source": [
    "string"
   ]
  },
  {
   "cell_type": "markdown",
   "metadata": {},
   "source": [
    "> split을 써볼까?"
   ]
  },
  {
   "cell_type": "code",
   "execution_count": 87,
   "metadata": {},
   "outputs": [
    {
     "name": "stdout",
     "output_type": "stream",
     "text": [
      "['나는 홍길동 입니다.', '주소는 서울시 입니다.', '나이는 35세 입니다.', '']\n",
      "['나는', '홍길동', '입니다.', '주소는', '서울시', '입니다.', '나이는', '35세', '입니다.']\n"
     ]
    }
   ],
   "source": [
    "# 문단 > 문장\n",
    "sents = [] # 문장 저장\n",
    "words = [] # 단어 저장\n",
    "for sen in string.split('\\n'):\n",
    "    sents.append(sen)\n",
    "    # 문장 > 단어\n",
    "    for word in sen.split():\n",
    "        words.append(word)\n",
    "print(sents)\n",
    "print(words)\n",
    "    "
   ]
  },
  {
   "cell_type": "code",
   "execution_count": 88,
   "metadata": {},
   "outputs": [
    {
     "name": "stdout",
     "output_type": "stream",
     "text": [
      "[5]\n",
      "[5, 10]\n",
      "[5, 10, 15]\n",
      "[5, 10, 15, 20]\n"
     ]
    }
   ],
   "source": [
    "var01 = [1,2,3,4]\n",
    "var02 = []\n",
    "# var02에 (var01의 인덱스 번호 * 5)를 출력하기\n",
    "for i in var01:\n",
    "    var02.append(i*5)\n",
    "    print(var02)"
   ]
  },
  {
   "cell_type": "code",
   "execution_count": null,
   "metadata": {},
   "outputs": [],
   "source": [
    "# 파이썬의 listed for문 : list 안에 for문을 쓴다\n",
    "var01 = [1,2,3,4]\n",
    "var02 = [i * 5 for i in var01]\n",
    "var02"
   ]
  },
  {
   "cell_type": "code",
   "execution_count": 94,
   "metadata": {},
   "outputs": [
    {
     "name": "stdout",
     "output_type": "stream",
     "text": [
      "[10, 20]\n"
     ]
    }
   ],
   "source": [
    "# var01의 데이터가 짝수인 경우에만 5를 곱하여 var02 list 만들기\n",
    "var01 = [1,2,3,4]\n",
    "var02 = [i * 5 for i in var01 if i % 2 == 0]\n",
    "print(var02)"
   ]
  },
  {
   "cell_type": "code",
   "execution_count": 103,
   "metadata": {},
   "outputs": [
    {
     "name": "stdout",
     "output_type": "stream",
     "text": [
      "[2, 4, 6, 8, 10, 12, 14, 16, 18, 3, 6, 9, 12, 15, 18, 21, 24, 27, 4, 8, 12, 16, 20, 24, 28, 32, 36, 5, 10, 15, 20, 25, 30, 35, 40, 45, 6, 12, 18, 24, 30, 36, 42, 48, 54, 7, 14, 21, 28, 35, 42, 49, 56, 63, 8, 16, 24, 32, 40, 48, 56, 64, 72, 9, 18, 27, 36, 45, 54, 63, 72, 81]"
     ]
    }
   ],
   "source": [
    "# 구구단 결과만 리스트로 만들기\n",
    "dan = [i * j for i in range(2,10) for j in range(1,10)]\n",
    "print(dan,end='')"
   ]
  },
  {
   "cell_type": "code",
   "execution_count": 105,
   "metadata": {},
   "outputs": [],
   "source": [
    "import numpy as np"
   ]
  },
  {
   "cell_type": "code",
   "execution_count": 115,
   "metadata": {},
   "outputs": [
    {
     "name": "stdout",
     "output_type": "stream",
     "text": [
      "[90, 67, 80]\n",
      "합격한 학생들의 평균 점수는 79.00 입니다.\n"
     ]
    }
   ],
   "source": [
    "# 60점 이상만 List로 만들어서 평균 출력하기\n",
    "scores = [90, 25, 67, 45, 80]\n",
    "target = [i for i in scores if i >= 60]\n",
    "\n",
    "print(target)\n",
    "print('합격한 학생들의 평균 점수는 %.2f 입니다.'%np.mean(target))"
   ]
  },
  {
   "cell_type": "code",
   "execution_count": null,
   "metadata": {},
   "outputs": [],
   "source": []
  }
 ],
 "metadata": {
  "kernelspec": {
   "display_name": "Python 3.9.7 ('base')",
   "language": "python",
   "name": "python3"
  },
  "language_info": {
   "codemirror_mode": {
    "name": "ipython",
    "version": 3
   },
   "file_extension": ".py",
   "mimetype": "text/x-python",
   "name": "python",
   "nbconvert_exporter": "python",
   "pygments_lexer": "ipython3",
   "version": "3.9.7"
  },
  "orig_nbformat": 4,
  "vscode": {
   "interpreter": {
    "hash": "c34e8390e776d2ee205b71ed5a6130fee3cef8da5e87e926ce18e14f4a070d72"
   }
  }
 },
 "nbformat": 4,
 "nbformat_minor": 2
}
