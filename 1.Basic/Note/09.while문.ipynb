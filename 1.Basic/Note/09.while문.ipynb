{
 "cells": [
  {
   "cell_type": "code",
   "execution_count": null,
   "metadata": {},
   "outputs": [],
   "source": [
    "treeHit = 0\n",
    "\n",
    "while treeHit < 10:\n",
    "    treeHit += 1\n",
    "    print(\"나무를 %d번 찍었습니다.\"%treeHit)\n",
    "    if treeHit == 10:\n",
    "        print(\"\\t나무 넘어갑니다!!!!\")"
   ]
  },
  {
   "cell_type": "code",
   "execution_count": null,
   "metadata": {},
   "outputs": [],
   "source": [
    "prompt = \"\"\"\n",
    "1. 덧셈\n",
    "2. 곱셈\n",
    "3. 나눗셈\n",
    "4. 종료\n",
    "\n",
    "숫자를 입력하세요:\n",
    "\"\"\""
   ]
  },
  {
   "cell_type": "code",
   "execution_count": null,
   "metadata": {},
   "outputs": [],
   "source": [
    "number = 0\n",
    "while number != 4:\n",
    "    print(prompt)\n",
    "    number = int(input())"
   ]
  },
  {
   "cell_type": "markdown",
   "metadata": {},
   "source": [
    "5 번의 커피를 판매할 수 있는 커피 자판기가 있다.<br>\n",
    "커피의 금액은 300 원이다.<br>\n",
    "300 원보다 큰 금액을 입력하면 커피를 주고 판매횟수가 줄며 거스름돈을 준다.<br>\n",
    "커피의 판매횟수가 소진되면 판매를 중지한다."
   ]
  },
  {
   "cell_type": "code",
   "execution_count": null,
   "metadata": {},
   "outputs": [],
   "source": [
    "coffee = 5\n",
    "\n",
    "while coffee != 0:\n",
    "    print(f\"\"\"\n",
    "    현재 커피 재고는 {coffee} 잔 입니다.\n",
    "    커피 한 잔은 300원 입니다.\n",
    "    커피를 구매하시려면 금액을 입력해주세요 :\n",
    "    \"\"\")\n",
    "    pay = int(input())\n",
    "\n",
    "    if(pay>=300):\n",
    "        coffee -= 1\n",
    "        print(f\"\"\"\n",
    "            구매해주셔서 감사합니다. \n",
    "            거스름돈은 {pay-300} 원 입니다.\n",
    "        \"\"\")\n",
    "        if(coffee == 0):\n",
    "            print(\"\"\"\n",
    "                오늘의 커피가 모두 소진되었습니다.\n",
    "                다음에 또 방문해주세요!\n",
    "            \"\"\")\n",
    "    else:\n",
    "        print(\"\"\"\n",
    "            금액이 부족합니다. \n",
    "            300 원 이상 입력해주세요.\n",
    "        \"\"\")\n"
   ]
  },
  {
   "cell_type": "code",
   "execution_count": null,
   "metadata": {},
   "outputs": [],
   "source": [
    "# break문을 사용하여 a가 5인 경우 while문을 빠져나가기\n",
    "var = 0\n",
    "while var<10:\n",
    "    print(var)\n",
    "    var += 1\n",
    "    if var == 5:\n",
    "        break # 반복문을 빠져나감(조건문을 빠져나가는게 아님)"
   ]
  },
  {
   "cell_type": "code",
   "execution_count": null,
   "metadata": {},
   "outputs": [],
   "source": [
    "# 10보다 작은 수 중 5인 경우에만 출력 안하고 나머지 숫자는 출력하기\n",
    "var = 0\n",
    "while var<10:\n",
    "    var += 1\n",
    "    if var == 5:\n",
    "        continue # 해당 반복을 종료하면서 다음 반복으로 넘어간다.\n",
    "    print(var)\n"
   ]
  },
  {
   "cell_type": "code",
   "execution_count": null,
   "metadata": {},
   "outputs": [],
   "source": [
    "# continue문을 사용하여 홀수만 출력하기\n",
    "var=0\n",
    "while var < 10:\n",
    "    var += 1\n",
    "    if var % 2 == 0:\n",
    "        continue\n",
    "    print(var)"
   ]
  },
  {
   "cell_type": "code",
   "execution_count": null,
   "metadata": {},
   "outputs": [],
   "source": [
    "# 점수가 80 이상이면 우수, 나머지는 노력으로 출력\n",
    "while True:\n",
    "    score = int(input('점수를 입력하세요 : '))\n",
    "    if score>100 | score<0:\n",
    "        break\n",
    "    elif score >= 80:\n",
    "        print(f'입력하신 점수 {score} : \"우수\" 등급')\n",
    "        continue\n",
    "    print(f'입력하신 점수 {score} : \"노력\" 등급')"
   ]
  },
  {
   "cell_type": "code",
   "execution_count": 4,
   "metadata": {},
   "outputs": [
    {
     "name": "stdout",
     "output_type": "stream",
     "text": [
      "점수는 78이고, 등급은 \"노력\"입니다.\n",
      "점수는 85이고, 등급은 \"우수\"입니다.\n"
     ]
    }
   ],
   "source": [
    "# 점수가 80 이상이면 우수, 나머지는 노력으로 출력\n",
    "\n",
    "scores = [78, 85, 95, 65]\n",
    "var = 0\n",
    "while var < len(scores):\n",
    "    var += 1\n",
    "    if(scores[0]>=80):\n",
    "        print(f'점수는 {scores[0]}이고, 등급은 \"우수\"입니다.')\n",
    "        scores.pop(0)\n",
    "    else:\n",
    "        print(f'점수는 {scores[0]}이고, 등급은 \"노력\"입니다.')\n",
    "        scores.pop(0)"
   ]
  },
  {
   "cell_type": "code",
   "execution_count": 2,
   "metadata": {},
   "outputs": [
    {
     "name": "stdout",
     "output_type": "stream",
     "text": [
      "점수는 78이고, 등급은 \"노력\"입니다.\n",
      "점수는 85이고, 등급은 \"우수\"입니다.\n",
      "점수는 95이고, 등급은 \"우수\"입니다.\n",
      "점수는 65이고, 등급은 \"노력\"입니다.\n"
     ]
    }
   ],
   "source": [
    "# 점수가 80 이상이면 우수, 나머지는 노력으로 출력\n",
    "\n",
    "scores = [78, 85, 95, 65]\n",
    "while scores:\n",
    "    if(scores[0]>=80):\n",
    "        print(f'점수는 {scores[0]}이고, 등급은 \"우수\"입니다.')\n",
    "        scores.pop(0)\n",
    "    else:\n",
    "        print(f'점수는 {scores[0]}이고, 등급은 \"노력\"입니다.')\n",
    "        scores.pop(0)"
   ]
  },
  {
   "cell_type": "code",
   "execution_count": 2,
   "metadata": {},
   "outputs": [
    {
     "name": "stdout",
     "output_type": "stream",
     "text": [
      "80.75\n"
     ]
    }
   ],
   "source": [
    "# 평균 구하기 1\n",
    "scores = [78, 85, 95, 65]\n",
    "list_length = len(scores)\n",
    "total = 0\n",
    "while scores:\n",
    "    total += scores.pop(0)\n",
    "\n",
    "print(total / list_length)"
   ]
  },
  {
   "cell_type": "code",
   "execution_count": 8,
   "metadata": {},
   "outputs": [],
   "source": [
    "import numpy as np\n",
    "import math"
   ]
  },
  {
   "cell_type": "code",
   "execution_count": 5,
   "metadata": {},
   "outputs": [
    {
     "data": {
      "text/plain": [
       "80.75"
      ]
     },
     "execution_count": 5,
     "metadata": {},
     "output_type": "execute_result"
    }
   ],
   "source": [
    "scores = [78, 85, 95, 65]\n",
    "np.mean(scores)"
   ]
  },
  {
   "cell_type": "markdown",
   "metadata": {},
   "source": [
    "### 표준편자 : (((평균과 각 data의 차이)의 제곱)을 합하여 제곱근을 구한 것)의 평균"
   ]
  },
  {
   "cell_type": "code",
   "execution_count": 9,
   "metadata": {},
   "outputs": [
    {
     "name": "stdout",
     "output_type": "stream",
     "text": [
      "80.75\n",
      "119.1875\n"
     ]
    },
    {
     "data": {
      "text/plain": [
       "10.917302780449024"
      ]
     },
     "execution_count": 9,
     "metadata": {},
     "output_type": "execute_result"
    }
   ],
   "source": [
    "scores = [78, 85, 95, 65]\n",
    "# 평균 구하기\n",
    "total = 0\n",
    "var = 0\n",
    "\n",
    "while var < len(scores):\n",
    "    total += scores[var]\n",
    "    var += 1\n",
    "\n",
    "avg = total / len(scores)\n",
    "print(avg)\n",
    "\n",
    "# (각 데이터와 평균의 차이의 제곱)의 합의 평균 구하기\n",
    "total = 0\n",
    "var = 0\n",
    "\n",
    "while var < len(scores):\n",
    "    total += (scores[var] - avg) ** 2\n",
    "    var += 1\n",
    "\n",
    "avg = total / len(scores)\n",
    "print(avg)\n",
    "\n",
    "# 제곱근 구하기\n",
    "math.sqrt(avg)"
   ]
  },
  {
   "cell_type": "code",
   "execution_count": 10,
   "metadata": {},
   "outputs": [
    {
     "data": {
      "text/plain": [
       "10.917302780449024"
      ]
     },
     "execution_count": 10,
     "metadata": {},
     "output_type": "execute_result"
    }
   ],
   "source": [
    "np.std(scores)"
   ]
  },
  {
   "cell_type": "markdown",
   "metadata": {},
   "source": [
    "> 표준편차의 원리를 이해하는게 통계학자의 기본 소양"
   ]
  },
  {
   "cell_type": "code",
   "execution_count": null,
   "metadata": {},
   "outputs": [],
   "source": []
  }
 ],
 "metadata": {
  "kernelspec": {
   "display_name": "Python 3.9.7 ('base')",
   "language": "python",
   "name": "python3"
  },
  "language_info": {
   "codemirror_mode": {
    "name": "ipython",
    "version": 3
   },
   "file_extension": ".py",
   "mimetype": "text/x-python",
   "name": "python",
   "nbconvert_exporter": "python",
   "pygments_lexer": "ipython3",
   "version": "3.9.7"
  },
  "orig_nbformat": 4,
  "vscode": {
   "interpreter": {
    "hash": "c34e8390e776d2ee205b71ed5a6130fee3cef8da5e87e926ce18e14f4a070d72"
   }
  }
 },
 "nbformat": 4,
 "nbformat_minor": 2
}
