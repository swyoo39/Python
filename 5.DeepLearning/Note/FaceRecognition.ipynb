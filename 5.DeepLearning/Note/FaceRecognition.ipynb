{
 "cells": [
  {
   "cell_type": "markdown",
   "metadata": {},
   "source": [
    "# Face Recognition System\n",
    "- h5는 모바일에 쓰기에 너무 커서 서버 활용\n",
    "- TFLite는 자체 추론도 있어서 정밀도가 비교적 높다."
   ]
  },
  {
   "cell_type": "code",
   "execution_count": null,
   "metadata": {},
   "outputs": [],
   "source": []
  }
 ],
 "metadata": {
  "language_info": {
   "name": "python"
  },
  "orig_nbformat": 4
 },
 "nbformat": 4,
 "nbformat_minor": 2
}
