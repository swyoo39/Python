{
 "cells": [
  {
   "cell_type": "markdown",
   "metadata": {},
   "source": [
    "1. 위키디피아 데이터 다운로드 : https://dumps.wikimedia.org/kowiki/latest/ 에서 kowiki-latest-pages-articles.xml.bz2를 다운    \n",
    "2. bzip2 -d kowiki-latest-pages-articles.xml.bz   \n",
    "3. sudo gem install wp2txt     \n",
    "4. wp2txt --input-file ./kowiki-latest-pages-articles.xml (약 20분 소요)   \n",
    "5. cat kowiki-latest-pages-articles-* > wiki.txt"
   ]
  },
  {
   "cell_type": "code",
   "execution_count": null,
   "metadata": {},
   "outputs": [],
   "source": [
    "import codecs\n",
    "from bs4 import BeautifulSoup\n",
    "from konlpy.tag import Okt\n",
    "from gensim.models import word2vec\n",
    "\n",
    "# 파일 열기\n",
    "readFp = codecs.open(\"../../wiki/wiki.txt\", \"r\", encoding=\"utf-8\")\n",
    "wakati_file = \"../../wiki/wiki.wakati\"\n",
    "writeFp = open(wakati_file, \"w\", encoding=\"utf-8\")\n",
    "\n",
    "# 형태소 분석 -\n",
    "twitter = Okt()\n",
    "i = 0\n",
    "\n",
    "# 텍스트를 한 줄씩 처리하기\n",
    "while True:\n",
    "    line = readFp.readline()\n",
    "    if not line: break\n",
    "    if i % 20000 == 0:\n",
    "        print(\"current - \" + str(i))\n",
    "    i += 1\n",
    "    # 형태소 분석\n",
    "    malist = twitter.pos(line, norm=True, stem=True)\n",
    "    # 필요한 어구만 대상으로 하기\n",
    "    r = []\n",
    "    for word in malist:\n",
    "        # 어미/조사/구두점 등은 대상에서 제외 \n",
    "        if not word[1] in [\"Josa\", \"Eomi\", \"Punctuation\"]:\n",
    "            writeFp.write(word[0] + \" \")\n",
    "writeFp.close()"
   ]
  },
  {
   "cell_type": "code",
   "execution_count": null,
   "metadata": {},
   "outputs": [],
   "source": [
    "from gensim.models import word2vec\n",
    "data = word2vec.Text8Corpus(\"../../wiki/wiki.wakati\")\n",
    "model = word2vec.Word2Vec(data)\n",
    "model.save(\"../../wiki/wiki.model\")\n",
    "print(\"ok\")"
   ]
  }
 ],
 "metadata": {
  "kernelspec": {
   "display_name": "Python 3.9.7 ('base')",
   "language": "python",
   "name": "python3"
  },
  "language_info": {
   "name": "python",
   "version": "3.9.7"
  },
  "orig_nbformat": 4,
  "vscode": {
   "interpreter": {
    "hash": "c34e8390e776d2ee205b71ed5a6130fee3cef8da5e87e926ce18e14f4a070d72"
   }
  }
 },
 "nbformat": 4,
 "nbformat_minor": 2
}
