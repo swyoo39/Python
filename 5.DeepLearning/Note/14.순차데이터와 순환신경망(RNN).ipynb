{
 "cells": [
  {
   "cell_type": "markdown",
   "metadata": {},
   "source": [
    "### 순차데이터\n",
    "- 텍스트데이터(ex: I am a boy) : 순서에 의미가 있다.\n",
    "- 시계열데이터(ex: 1일 10도, 2일 8도) "
   ]
  },
  {
   "cell_type": "markdown",
   "metadata": {},
   "source": [
    "---\n",
    "### 순환신경망(RNN : Recurrent Neural Network)"
   ]
  },
  {
   "cell_type": "markdown",
   "metadata": {},
   "source": [
    "![](../data/RNN.png)"
   ]
  },
  {
   "cell_type": "markdown",
   "metadata": {},
   "source": [
    "![](../data/token.png)"
   ]
  },
  {
   "cell_type": "markdown",
   "metadata": {},
   "source": [
    "### IMDB(Internet Movie Data Base)\n",
    "- IMDB 구성 : Train Data(25000개 중 긍정 12500개, 부정 12500개), Test Data(25000개 중 긍정 12500, 부정 12500)\n",
    "- NLP : Natural Language Processing(자연어 처리)\n",
    "- 말뭉치 : 하나의 데이터셋을 말뭉치라고 표현\n",
    "- 토큰 : 하나의 단어를 토큰이라고 표현\n",
    "- 어휘사전 : 번호로 구분된 유일한 단어들의 집단\n",
    "- 머신러닝이나 딥러닝에서는 데이터가 숫자로 구성되어야 하므로 이런 단어들을 고유한 번호로 할당하여 사용한다."
   ]
  },
  {
   "cell_type": "code",
   "execution_count": 1,
   "metadata": {},
   "outputs": [],
   "source": [
    "from tensorflow import keras"
   ]
  },
  {
   "cell_type": "code",
   "execution_count": 3,
   "metadata": {},
   "outputs": [],
   "source": [
    "imdb = keras.datasets.imdb"
   ]
  },
  {
   "cell_type": "code",
   "execution_count": 5,
   "metadata": {},
   "outputs": [
    {
     "name": "stdout",
     "output_type": "stream",
     "text": [
      "Downloading data from https://storage.googleapis.com/tensorflow/tf-keras-datasets/imdb.npz\n",
      "17464789/17464789 [==============================] - 169s 10us/step\n"
     ]
    }
   ],
   "source": [
    "(train_input, train_target), (test_input, test_target) = imdb.load_data(num_words=500) # 500개 단어"
   ]
  },
  {
   "cell_type": "code",
   "execution_count": 6,
   "metadata": {},
   "outputs": [
    {
     "name": "stdout",
     "output_type": "stream",
     "text": [
      "(25000,) (25000,)\n"
     ]
    }
   ],
   "source": [
    "print(train_input.shape, test_input.shape)"
   ]
  },
  {
   "cell_type": "code",
   "execution_count": 7,
   "metadata": {},
   "outputs": [
    {
     "data": {
      "text/plain": [
       "218"
      ]
     },
     "execution_count": 7,
     "metadata": {},
     "output_type": "execute_result"
    }
   ],
   "source": [
    "# train의 첫번째 문장의 token 수\n",
    "len(train_input[0])"
   ]
  },
  {
   "cell_type": "code",
   "execution_count": 8,
   "metadata": {},
   "outputs": [
    {
     "data": {
      "text/plain": [
       "189"
      ]
     },
     "execution_count": 8,
     "metadata": {},
     "output_type": "execute_result"
    }
   ],
   "source": [
    "len(train_input[1])"
   ]
  },
  {
   "cell_type": "code",
   "execution_count": 9,
   "metadata": {},
   "outputs": [
    {
     "name": "stdout",
     "output_type": "stream",
     "text": [
      "[1, 14, 22, 16, 43, 2, 2, 2, 2, 65, 458, 2, 66, 2, 4, 173, 36, 256, 5, 25, 100, 43, 2, 112, 50, 2, 2, 9, 35, 480, 284, 5, 150, 4, 172, 112, 167, 2, 336, 385, 39, 4, 172, 2, 2, 17, 2, 38, 13, 447, 4, 192, 50, 16, 6, 147, 2, 19, 14, 22, 4, 2, 2, 469, 4, 22, 71, 87, 12, 16, 43, 2, 38, 76, 15, 13, 2, 4, 22, 17, 2, 17, 12, 16, 2, 18, 2, 5, 62, 386, 12, 8, 316, 8, 106, 5, 4, 2, 2, 16, 480, 66, 2, 33, 4, 130, 12, 16, 38, 2, 5, 25, 124, 51, 36, 135, 48, 25, 2, 33, 6, 22, 12, 215, 28, 77, 52, 5, 14, 407, 16, 82, 2, 8, 4, 107, 117, 2, 15, 256, 4, 2, 7, 2, 5, 2, 36, 71, 43, 2, 476, 26, 400, 317, 46, 7, 4, 2, 2, 13, 104, 88, 4, 381, 15, 297, 98, 32, 2, 56, 26, 141, 6, 194, 2, 18, 4, 226, 22, 21, 134, 476, 26, 480, 5, 144, 30, 2, 18, 51, 36, 28, 224, 92, 25, 104, 4, 226, 65, 16, 38, 2, 88, 12, 16, 283, 5, 16, 2, 113, 103, 32, 15, 16, 2, 19, 178, 32]\n"
     ]
    }
   ],
   "source": [
    "# 첫번째 댓글 출력\n",
    "print(train_input[0])"
   ]
  },
  {
   "cell_type": "markdown",
   "metadata": {},
   "source": [
    "- 샘플의 시작부분 토큰은 1을 사용한다.   \n",
    "- 2는 선정한 단어 개수에 포함되지 않는 단어를 표현한다.   \n",
    "- train_input 자체는 numpy 배열이지만, 댓글에 사용된 토큰수가 다르기 때문에 numpy 배열을 사용하지 못하고 python list를 사용한다."
   ]
  },
  {
   "cell_type": "code",
   "execution_count": 10,
   "metadata": {},
   "outputs": [
    {
     "name": "stdout",
     "output_type": "stream",
     "text": [
      "[1 0 0 1 0 0 1 0 1 0]\n"
     ]
    }
   ],
   "source": [
    "# train의 target 출력\n",
    "print(train_target[:10])"
   ]
  },
  {
   "cell_type": "code",
   "execution_count": 11,
   "metadata": {},
   "outputs": [],
   "source": [
    "# 훈련셋 준비\n",
    "from sklearn.model_selection import train_test_split"
   ]
  },
  {
   "cell_type": "code",
   "execution_count": 12,
   "metadata": {},
   "outputs": [],
   "source": [
    "train_input, val_input, train_target, val_target = train_test_split(\n",
    "    train_input, train_target, test_size=0.2, random_state=42\n",
    ")"
   ]
  },
  {
   "cell_type": "code",
   "execution_count": 13,
   "metadata": {},
   "outputs": [],
   "source": [
    "# 각 리뷰마다 문장 길이를 시각화\n",
    "import numpy as np"
   ]
  },
  {
   "cell_type": "code",
   "execution_count": 14,
   "metadata": {},
   "outputs": [
    {
     "name": "stdout",
     "output_type": "stream",
     "text": [
      "239.00925 178.0\n"
     ]
    }
   ],
   "source": [
    "lengths = np.array([len(x) for x in train_input])\n",
    "print(np.mean(lengths), np.median(lengths))"
   ]
  },
  {
   "cell_type": "code",
   "execution_count": 15,
   "metadata": {},
   "outputs": [],
   "source": [
    "import matplotlib.pyplot as plt"
   ]
  },
  {
   "cell_type": "code",
   "execution_count": 16,
   "metadata": {},
   "outputs": [
    {
     "data": {
      "image/png": "[encoded data removed]",
      "text/plain": [
       "<Figure size 432x288 with 1 Axes>"
      ]
     },
     "metadata": {
      "needs_background": "light"
     },
     "output_type": "display_data"
    }
   ],
   "source": [
    "plt.hist(lengths)\n",
    "\n",
    "plt.xlabel('length')\n",
    "plt.ylabel('frequency')\n",
    "\n",
    "plt.show()"
   ]
  },
  {
   "cell_type": "markdown",
   "metadata": {},
   "source": [
    "---\n",
    "### Sequence Padding\n",
    "- 전체 자리수를 100으로 가정했을 때, 한 문장에 3개 토큰만 있을 경우 나머지 97개는 비우고 이를 0으로 채우는 과정"
   ]
  },
  {
   "cell_type": "code",
   "execution_count": 17,
   "metadata": {},
   "outputs": [],
   "source": [
    "from tensorflow.keras.preprocessing.sequence import pad_sequences\n",
    "\n",
    "train_seq = pad_sequences(train_input, maxlen=100) # 위의 차트에서 100개 부분이 제일 많은 것 같아서 100개의 토큰만 사용\n",
    "val_seq = pad_sequences(val_input, maxlen=100) # 검증 데이터"
   ]
  },
  {
   "cell_type": "code",
   "execution_count": 18,
   "metadata": {},
   "outputs": [
    {
     "name": "stdout",
     "output_type": "stream",
     "text": [
      "(20000, 100)\n"
     ]
    }
   ],
   "source": [
    "# 크기 확인\n",
    "print(train_seq.shape)"
   ]
  },
  {
   "cell_type": "markdown",
   "metadata": {},
   "source": [
    "> 25000개의 훈련셋 중 5000개는 검증셋으로 빠짐"
   ]
  },
  {
   "cell_type": "code",
   "execution_count": 20,
   "metadata": {},
   "outputs": [
    {
     "name": "stdout",
     "output_type": "stream",
     "text": [
      "[ 10   4  20   9   2 364 352   5  45   6   2   2  33 269   8   2 142   2\n",
      "   5   2  17  73  17 204   5   2  19  55   2   2  92  66 104  14  20  93\n",
      "  76   2 151  33   4  58  12 188   2 151  12 215  69 224 142  73 237   6\n",
      "   2   7   2   2 188   2 103  14  31  10  10 451   7   2   5   2  80  91\n",
      "   2  30   2  34  14  20 151  50  26 131  49   2  84  46  50  37  80  79\n",
      "   6   2  46   7  14  20  10  10 470 158]\n"
     ]
    }
   ],
   "source": [
    "# 첫번째 댓글 확인\n",
    "print(train_seq[0])"
   ]
  },
  {
   "cell_type": "code",
   "execution_count": 21,
   "metadata": {},
   "outputs": [
    {
     "name": "stdout",
     "output_type": "stream",
     "text": [
      "[6, 2, 46, 7, 14, 20, 10, 10, 470, 158]\n"
     ]
    }
   ],
   "source": [
    "# 원본 첫번째 댓글의 마지막 10개 토큰만 출력\n",
    "print(train_input[0][-10:])"
   ]
  },
  {
   "cell_type": "code",
   "execution_count": 22,
   "metadata": {},
   "outputs": [
    {
     "name": "stdout",
     "output_type": "stream",
     "text": [
      "[  0   0   0   0   1   2 195  19  49   2   2 190   4   2 352   2 183  10\n",
      "  10  13  82  79   4   2  36  71 269   8   2  25  19  49   7   4   2   2\n",
      "   2   2   2  10  10  48  25  40   2  11   2   2  40   2   2   5   4   2\n",
      "   2  95  14 238  56 129   2  10  10  21   2  94 364 352   2   2  11 190\n",
      "  24 484   2   7  94 205 405  10  10  87   2  34  49   2   7   2   2   2\n",
      "   2   2 290   2  46  48  64  18   4   2]\n"
     ]
    }
   ],
   "source": [
    "print(train_seq[5])"
   ]
  },
  {
   "cell_type": "markdown",
   "metadata": {},
   "source": [
    "---\n",
    "### 순환신경망 모델 만들기"
   ]
  },
  {
   "cell_type": "code",
   "execution_count": 23,
   "metadata": {},
   "outputs": [
    {
     "name": "stderr",
     "output_type": "stream",
     "text": [
      "2022-07-22 11:13:15.403653: I tensorflow/core/platform/cpu_feature_guard.cc:193] This TensorFlow binary is optimized with oneAPI Deep Neural Network Library (oneDNN) to use the following CPU instructions in performance-critical operations:  AVX2 FMA\n",
      "To enable them in other operations, rebuild TensorFlow with the appropriate compiler flags.\n"
     ]
    }
   ],
   "source": [
    "model = keras.Sequential()\n",
    "model.add(keras.layers.SimpleRNN(8, input_shape=(100, 500))) # 8 : cells, 500 : one hot encoding\n",
    "model.add(keras.layers.Dense(1, activation='sigmoid'))"
   ]
  },
  {
   "cell_type": "code",
   "execution_count": 25,
   "metadata": {},
   "outputs": [
    {
     "name": "stdout",
     "output_type": "stream",
     "text": [
      "(20000, 100, 500)\n"
     ]
    }
   ],
   "source": [
    "# one hot encoding\n",
    "train_oh = keras.utils.to_categorical(train_seq)\n",
    "print(train_oh.shape)"
   ]
  },
  {
   "cell_type": "code",
   "execution_count": 26,
   "metadata": {},
   "outputs": [
    {
     "name": "stdout",
     "output_type": "stream",
     "text": [
      "1.0\n"
     ]
    }
   ],
   "source": [
    "# one hot encoding 확인\n",
    "print(np.sum(train_oh[0][0]))"
   ]
  },
  {
   "cell_type": "code",
   "execution_count": 27,
   "metadata": {},
   "outputs": [],
   "source": [
    "val_oh = keras.utils.to_categorical(val_seq)"
   ]
  },
  {
   "cell_type": "code",
   "execution_count": 28,
   "metadata": {},
   "outputs": [
    {
     "name": "stdout",
     "output_type": "stream",
     "text": [
      "Model: \"sequential\"\n",
      "_________________________________________________________________\n",
      " Layer (type)                Output Shape              Param #   \n",
      "=================================================================\n",
      " simple_rnn (SimpleRNN)      (None, 8)                 4072      \n",
      "                                                                 \n",
      " dense (Dense)               (None, 1)                 9         \n",
      "                                                                 \n",
      "=================================================================\n",
      "Total params: 4,081\n",
      "Trainable params: 4,081\n",
      "Non-trainable params: 0\n",
      "_________________________________________________________________\n"
     ]
    }
   ],
   "source": [
    "model.summary()"
   ]
  },
  {
   "cell_type": "markdown",
   "metadata": {},
   "source": [
    "> 9 = 8 + 1    \n",
    "4072 = 500 * 8 + (8 * 8)"
   ]
  },
  {
   "cell_type": "code",
   "execution_count": 33,
   "metadata": {},
   "outputs": [
    {
     "name": "stdout",
     "output_type": "stream",
     "text": [
      "Epoch 1/100\n",
      "313/313 [==============================] - 16s 47ms/step - loss: 0.7049 - accuracy: 0.4943 - val_loss: 0.6997 - val_accuracy: 0.5012\n",
      "Epoch 2/100\n",
      "313/313 [==============================] - 15s 48ms/step - loss: 0.6987 - accuracy: 0.5060 - val_loss: 0.6959 - val_accuracy: 0.5136\n",
      "Epoch 3/100\n",
      "313/313 [==============================] - 14s 45ms/step - loss: 0.6941 - accuracy: 0.5192 - val_loss: 0.6928 - val_accuracy: 0.5230\n",
      "Epoch 4/100\n",
      "313/313 [==============================] - 15s 48ms/step - loss: 0.6901 - accuracy: 0.5346 - val_loss: 0.6898 - val_accuracy: 0.5350\n",
      "Epoch 5/100\n",
      "313/313 [==============================] - 14s 44ms/step - loss: 0.6857 - accuracy: 0.5508 - val_loss: 0.6851 - val_accuracy: 0.5528\n",
      "Epoch 6/100\n",
      "313/313 [==============================] - 14s 44ms/step - loss: 0.6778 - accuracy: 0.5799 - val_loss: 0.6724 - val_accuracy: 0.5950\n",
      "Epoch 7/100\n",
      "313/313 [==============================] - 14s 44ms/step - loss: 0.6435 - accuracy: 0.6457 - val_loss: 0.6314 - val_accuracy: 0.6632\n",
      "Epoch 8/100\n",
      "313/313 [==============================] - 14s 45ms/step - loss: 0.6178 - accuracy: 0.6786 - val_loss: 0.6122 - val_accuracy: 0.6882\n",
      "Epoch 9/100\n",
      "313/313 [==============================] - 14s 46ms/step - loss: 0.5976 - accuracy: 0.7011 - val_loss: 0.5926 - val_accuracy: 0.7086\n",
      "Epoch 10/100\n",
      "313/313 [==============================] - 14s 44ms/step - loss: 0.5803 - accuracy: 0.7178 - val_loss: 0.5786 - val_accuracy: 0.7134\n",
      "Epoch 11/100\n",
      "313/313 [==============================] - 14s 44ms/step - loss: 0.5642 - accuracy: 0.7326 - val_loss: 0.5702 - val_accuracy: 0.7210\n",
      "Epoch 12/100\n",
      "313/313 [==============================] - 13s 43ms/step - loss: 0.5510 - accuracy: 0.7426 - val_loss: 0.5526 - val_accuracy: 0.7364\n",
      "Epoch 13/100\n",
      "313/313 [==============================] - 13s 42ms/step - loss: 0.5374 - accuracy: 0.7531 - val_loss: 0.5430 - val_accuracy: 0.7418\n",
      "Epoch 14/100\n",
      "313/313 [==============================] - 13s 43ms/step - loss: 0.5259 - accuracy: 0.7595 - val_loss: 0.5328 - val_accuracy: 0.7482\n",
      "Epoch 15/100\n",
      "313/313 [==============================] - 13s 42ms/step - loss: 0.5168 - accuracy: 0.7645 - val_loss: 0.5244 - val_accuracy: 0.7548\n",
      "Epoch 16/100\n",
      "313/313 [==============================] - 13s 43ms/step - loss: 0.5068 - accuracy: 0.7724 - val_loss: 0.5172 - val_accuracy: 0.7560\n",
      "Epoch 17/100\n",
      "313/313 [==============================] - 14s 44ms/step - loss: 0.4974 - accuracy: 0.7788 - val_loss: 0.5089 - val_accuracy: 0.7640\n",
      "Epoch 18/100\n",
      "313/313 [==============================] - 14s 44ms/step - loss: 0.4892 - accuracy: 0.7825 - val_loss: 0.5026 - val_accuracy: 0.7672\n",
      "Epoch 19/100\n",
      "313/313 [==============================] - 14s 46ms/step - loss: 0.4819 - accuracy: 0.7868 - val_loss: 0.4979 - val_accuracy: 0.7652\n",
      "Epoch 20/100\n",
      "313/313 [==============================] - 13s 41ms/step - loss: 0.4750 - accuracy: 0.7908 - val_loss: 0.4912 - val_accuracy: 0.7730\n",
      "Epoch 21/100\n",
      "313/313 [==============================] - 13s 40ms/step - loss: 0.4686 - accuracy: 0.7951 - val_loss: 0.4865 - val_accuracy: 0.7748\n",
      "Epoch 22/100\n",
      "313/313 [==============================] - 13s 40ms/step - loss: 0.4629 - accuracy: 0.7969 - val_loss: 0.4826 - val_accuracy: 0.7788\n",
      "Epoch 23/100\n",
      "313/313 [==============================] - 13s 42ms/step - loss: 0.4582 - accuracy: 0.8002 - val_loss: 0.4800 - val_accuracy: 0.7792\n",
      "Epoch 24/100\n",
      "313/313 [==============================] - 12s 40ms/step - loss: 0.4536 - accuracy: 0.8011 - val_loss: 0.4785 - val_accuracy: 0.7788\n",
      "Epoch 25/100\n",
      "313/313 [==============================] - 13s 42ms/step - loss: 0.4491 - accuracy: 0.8047 - val_loss: 0.4762 - val_accuracy: 0.7810\n",
      "Epoch 26/100\n",
      "313/313 [==============================] - 14s 44ms/step - loss: 0.4454 - accuracy: 0.8061 - val_loss: 0.4723 - val_accuracy: 0.7834\n",
      "Epoch 27/100\n",
      "313/313 [==============================] - 15s 47ms/step - loss: 0.4415 - accuracy: 0.8087 - val_loss: 0.4693 - val_accuracy: 0.7884\n",
      "Epoch 28/100\n",
      "313/313 [==============================] - 14s 43ms/step - loss: 0.4391 - accuracy: 0.8101 - val_loss: 0.4714 - val_accuracy: 0.7838\n",
      "Epoch 29/100\n",
      "313/313 [==============================] - 13s 40ms/step - loss: 0.4366 - accuracy: 0.8116 - val_loss: 0.4679 - val_accuracy: 0.7848\n",
      "Epoch 30/100\n",
      "313/313 [==============================] - 13s 41ms/step - loss: 0.4336 - accuracy: 0.8109 - val_loss: 0.4647 - val_accuracy: 0.7862\n",
      "Epoch 31/100\n",
      "313/313 [==============================] - 13s 40ms/step - loss: 0.4309 - accuracy: 0.8139 - val_loss: 0.4666 - val_accuracy: 0.7832\n",
      "Epoch 32/100\n",
      "313/313 [==============================] - 13s 43ms/step - loss: 0.4288 - accuracy: 0.8144 - val_loss: 0.4692 - val_accuracy: 0.7830\n",
      "Epoch 33/100\n",
      "313/313 [==============================] - 13s 41ms/step - loss: 0.4265 - accuracy: 0.8158 - val_loss: 0.4645 - val_accuracy: 0.7848\n",
      "Epoch 34/100\n",
      "313/313 [==============================] - 14s 44ms/step - loss: 0.4243 - accuracy: 0.8163 - val_loss: 0.4622 - val_accuracy: 0.7842\n",
      "Epoch 35/100\n",
      "313/313 [==============================] - 14s 44ms/step - loss: 0.4225 - accuracy: 0.8170 - val_loss: 0.4680 - val_accuracy: 0.7826\n",
      "Epoch 36/100\n",
      "313/313 [==============================] - 14s 44ms/step - loss: 0.4206 - accuracy: 0.8193 - val_loss: 0.4627 - val_accuracy: 0.7868\n",
      "Epoch 37/100\n",
      "313/313 [==============================] - 13s 43ms/step - loss: 0.4190 - accuracy: 0.8185 - val_loss: 0.4692 - val_accuracy: 0.7836\n"
     ]
    }
   ],
   "source": [
    "rmsprop = keras.optimizers.RMSprop(learning_rate=1e-4)\n",
    "model.compile(\n",
    "    optimizer=rmsprop,\n",
    "    loss='binary_crossentropy',\n",
    "    metrics='accuracy'\n",
    ")\n",
    "\n",
    "checkpoint_cb = keras.callbacks.ModelCheckpoint('../data/best_simple_rnn_model.h5')\n",
    "early_stopping_cb = keras.callbacks.EarlyStopping(\n",
    "    patience=3,\n",
    "    restore_best_weights=True,\n",
    ")\n",
    "\n",
    "history = model.fit(\n",
    "    train_oh,\n",
    "    train_target,\n",
    "    epochs=100, # rnn에서 최소 100개\n",
    "    batch_size=64, # mini batch 경사 하강법. 시간을 줄여보자! (8*8)\n",
    "    validation_data=(val_oh, val_target),\n",
    "    callbacks=[checkpoint_cb, early_stopping_cb]\n",
    ")"
   ]
  },
  {
   "cell_type": "code",
   "execution_count": 34,
   "metadata": {},
   "outputs": [
    {
     "data": {
      "image/png": "[encoded data removed]",
      "text/plain": [
       "<Figure size 432x288 with 1 Axes>"
      ]
     },
     "metadata": {
      "needs_background": "light"
     },
     "output_type": "display_data"
    }
   ],
   "source": [
    "# 시각화\n",
    "plt.plot(history.history['loss'])\n",
    "plt.plot(history.history['val_loss'])\n",
    "\n",
    "plt.xlabel('epoch')\n",
    "plt.ylabel('loss')\n",
    "plt.legend(['train', 'val'])\n",
    "\n",
    "plt.show()"
   ]
  },
  {
   "cell_type": "code",
   "execution_count": 36,
   "metadata": {},
   "outputs": [
    {
     "name": "stdout",
     "output_type": "stream",
     "text": [
      "157/157 [==============================] - 3s 16ms/step - loss: 0.4622 - accuracy: 0.7842\n"
     ]
    },
    {
     "data": {
      "text/plain": [
       "[0.4621654152870178, 0.7842000126838684]"
      ]
     },
     "execution_count": 36,
     "metadata": {},
     "output_type": "execute_result"
    }
   ],
   "source": [
    "model.evaluate(val_oh, val_target)"
   ]
  },
  {
   "cell_type": "code",
   "execution_count": 38,
   "metadata": {},
   "outputs": [],
   "source": [
    "# test data sequence & one hot encoding\n",
    "test_seq = pad_sequences(test_input, maxlen=100) # 위의 차트에서 100개 부분이 제일 많은 것 같아서 100개의 토큰만 사용\n",
    "test_oh = keras.utils.to_categorical(test_seq)"
   ]
  },
  {
   "cell_type": "code",
   "execution_count": 39,
   "metadata": {},
   "outputs": [
    {
     "name": "stdout",
     "output_type": "stream",
     "text": [
      "782/782 [==============================] - 14s 17ms/step - loss: 0.4619 - accuracy: 0.7866\n"
     ]
    },
    {
     "data": {
      "text/plain": [
       "[0.46193528175354004, 0.7865999937057495]"
      ]
     },
     "execution_count": 39,
     "metadata": {},
     "output_type": "execute_result"
    }
   ],
   "source": [
    "model.evaluate(test_oh, test_target)"
   ]
  },
  {
   "cell_type": "markdown",
   "metadata": {},
   "source": [
    "---\n",
    "### LSTM(Long Short Term Memory) 모델 구성하기\n",
    "- 순환신경망의 셀로 이전 timestep의 sample을 기억하고 있음"
   ]
  },
  {
   "cell_type": "code",
   "execution_count": 40,
   "metadata": {},
   "outputs": [
    {
     "name": "stdout",
     "output_type": "stream",
     "text": [
      "Model: \"sequential_1\"\n",
      "_________________________________________________________________\n",
      " Layer (type)                Output Shape              Param #   \n",
      "=================================================================\n",
      " embedding (Embedding)       (None, 100, 16)           8000      \n",
      "                                                                 \n",
      " lstm (LSTM)                 (None, 8)                 800       \n",
      "                                                                 \n",
      " dense_1 (Dense)             (None, 1)                 9         \n",
      "                                                                 \n",
      "=================================================================\n",
      "Total params: 8,809\n",
      "Trainable params: 8,809\n",
      "Non-trainable params: 0\n",
      "_________________________________________________________________\n"
     ]
    }
   ],
   "source": [
    "model = keras.Sequential()\n",
    "model.add(keras.layers.Embedding(500, 16, input_length=100)) # Embedding() : one hot encoding\n",
    "model.add(keras.layers.LSTM(8)) # 8: cells\n",
    "model.add(keras.layers.Dense(1, activation='sigmoid'))\n",
    "\n",
    "model.summary()"
   ]
  },
  {
   "cell_type": "markdown",
   "metadata": {},
   "source": [
    "> parameter 수가 늘었다. timestep을 기억하기 때문"
   ]
  },
  {
   "cell_type": "code",
   "execution_count": 43,
   "metadata": {},
   "outputs": [
    {
     "name": "stdout",
     "output_type": "stream",
     "text": [
      "Epoch 1/100\n",
      "313/313 [==============================] - 13s 34ms/step - loss: 0.6923 - accuracy: 0.5355 - val_loss: 0.6909 - val_accuracy: 0.5884\n",
      "Epoch 2/100\n",
      "313/313 [==============================] - 10s 33ms/step - loss: 0.6883 - accuracy: 0.6046 - val_loss: 0.6846 - val_accuracy: 0.6442\n",
      "Epoch 3/100\n",
      "313/313 [==============================] - 10s 31ms/step - loss: 0.6745 - accuracy: 0.6701 - val_loss: 0.6555 - val_accuracy: 0.7028\n",
      "Epoch 4/100\n",
      "313/313 [==============================] - 10s 31ms/step - loss: 0.6017 - accuracy: 0.7161 - val_loss: 0.5672 - val_accuracy: 0.7192\n",
      "Epoch 5/100\n",
      "313/313 [==============================] - 10s 32ms/step - loss: 0.5469 - accuracy: 0.7369 - val_loss: 0.5393 - val_accuracy: 0.7378\n",
      "Epoch 6/100\n",
      "313/313 [==============================] - 10s 32ms/step - loss: 0.5217 - accuracy: 0.7560 - val_loss: 0.5192 - val_accuracy: 0.7574\n",
      "Epoch 7/100\n",
      "313/313 [==============================] - 10s 31ms/step - loss: 0.5030 - accuracy: 0.7696 - val_loss: 0.5033 - val_accuracy: 0.7656\n",
      "Epoch 8/100\n",
      "313/313 [==============================] - 10s 32ms/step - loss: 0.4876 - accuracy: 0.7775 - val_loss: 0.4910 - val_accuracy: 0.7728\n",
      "Epoch 9/100\n",
      "313/313 [==============================] - 10s 31ms/step - loss: 0.4747 - accuracy: 0.7852 - val_loss: 0.4792 - val_accuracy: 0.7798\n",
      "Epoch 10/100\n",
      "313/313 [==============================] - 10s 32ms/step - loss: 0.4636 - accuracy: 0.7921 - val_loss: 0.4721 - val_accuracy: 0.7790\n",
      "Epoch 11/100\n",
      "313/313 [==============================] - 10s 31ms/step - loss: 0.4545 - accuracy: 0.7976 - val_loss: 0.4627 - val_accuracy: 0.7876\n",
      "Epoch 12/100\n",
      "313/313 [==============================] - 10s 32ms/step - loss: 0.4463 - accuracy: 0.8008 - val_loss: 0.4562 - val_accuracy: 0.7924\n",
      "Epoch 13/100\n",
      "313/313 [==============================] - 10s 32ms/step - loss: 0.4400 - accuracy: 0.8041 - val_loss: 0.4503 - val_accuracy: 0.7940\n",
      "Epoch 14/100\n",
      "313/313 [==============================] - 10s 32ms/step - loss: 0.4342 - accuracy: 0.8065 - val_loss: 0.4475 - val_accuracy: 0.7946\n",
      "Epoch 15/100\n",
      "313/313 [==============================] - 10s 32ms/step - loss: 0.4296 - accuracy: 0.8094 - val_loss: 0.4441 - val_accuracy: 0.7944\n",
      "Epoch 16/100\n",
      "313/313 [==============================] - 10s 32ms/step - loss: 0.4257 - accuracy: 0.8104 - val_loss: 0.4399 - val_accuracy: 0.7998\n",
      "Epoch 17/100\n",
      "313/313 [==============================] - 10s 32ms/step - loss: 0.4226 - accuracy: 0.8105 - val_loss: 0.4383 - val_accuracy: 0.7990\n",
      "Epoch 18/100\n",
      "313/313 [==============================] - 10s 32ms/step - loss: 0.4198 - accuracy: 0.8116 - val_loss: 0.4403 - val_accuracy: 0.7932\n",
      "Epoch 19/100\n",
      "313/313 [==============================] - 10s 32ms/step - loss: 0.4177 - accuracy: 0.8125 - val_loss: 0.4349 - val_accuracy: 0.8022\n",
      "Epoch 20/100\n",
      "313/313 [==============================] - 15s 48ms/step - loss: 0.4158 - accuracy: 0.8129 - val_loss: 0.4336 - val_accuracy: 0.8016\n",
      "Epoch 21/100\n",
      "313/313 [==============================] - 15s 49ms/step - loss: 0.4141 - accuracy: 0.8140 - val_loss: 0.4321 - val_accuracy: 0.8012\n",
      "Epoch 22/100\n",
      "313/313 [==============================] - 12s 38ms/step - loss: 0.4128 - accuracy: 0.8137 - val_loss: 0.4314 - val_accuracy: 0.8024\n",
      "Epoch 23/100\n",
      "313/313 [==============================] - 12s 38ms/step - loss: 0.4117 - accuracy: 0.8142 - val_loss: 0.4313 - val_accuracy: 0.7994\n",
      "Epoch 24/100\n",
      "313/313 [==============================] - 12s 39ms/step - loss: 0.4104 - accuracy: 0.8146 - val_loss: 0.4308 - val_accuracy: 0.7982\n",
      "Epoch 25/100\n",
      "313/313 [==============================] - 11s 37ms/step - loss: 0.4099 - accuracy: 0.8153 - val_loss: 0.4319 - val_accuracy: 0.8026\n",
      "Epoch 26/100\n",
      "313/313 [==============================] - 11s 35ms/step - loss: 0.4090 - accuracy: 0.8137 - val_loss: 0.4298 - val_accuracy: 0.8016\n",
      "Epoch 27/100\n",
      "313/313 [==============================] - 10s 32ms/step - loss: 0.4085 - accuracy: 0.8139 - val_loss: 0.4305 - val_accuracy: 0.8042\n",
      "Epoch 28/100\n",
      "313/313 [==============================] - 10s 32ms/step - loss: 0.4077 - accuracy: 0.8160 - val_loss: 0.4304 - val_accuracy: 0.7992\n",
      "Epoch 29/100\n",
      "313/313 [==============================] - 10s 32ms/step - loss: 0.4070 - accuracy: 0.8152 - val_loss: 0.4383 - val_accuracy: 0.7938\n"
     ]
    }
   ],
   "source": [
    "# 훈련\n",
    "rmsprop = keras.optimizers.RMSprop(learning_rate=1e-4)\n",
    "model.compile(\n",
    "    optimizer=rmsprop,\n",
    "    loss='binary_crossentropy',\n",
    "    metrics='accuracy'\n",
    ")\n",
    "\n",
    "checkpoint_cb = keras.callbacks.ModelCheckpoint('../data/best_lstm_rnn_model.h5')\n",
    "early_stopping_cb = keras.callbacks.EarlyStopping(\n",
    "    patience=3,\n",
    "    restore_best_weights=True, # 최적 weight 기억해둬야 stop 후 해당 값을 출력한다.\n",
    ")\n",
    "\n",
    "history = model.fit(\n",
    "    train_seq,\n",
    "    train_target,\n",
    "    epochs=100, # rnn에서 최소 100개\n",
    "    batch_size=64, # mini batch 경사 하강법. 시간을 줄여보자! (8*8)\n",
    "    validation_data=(val_seq, val_target),\n",
    "    callbacks=[checkpoint_cb, early_stopping_cb]\n",
    ")"
   ]
  },
  {
   "cell_type": "code",
   "execution_count": 44,
   "metadata": {},
   "outputs": [
    {
     "data": {
      "image/png": "[encoded data removed]",
      "text/plain": [
       "<Figure size 432x288 with 1 Axes>"
      ]
     },
     "metadata": {
      "needs_background": "light"
     },
     "output_type": "display_data"
    }
   ],
   "source": [
    "# 시각화\n",
    "plt.plot(history.history['loss'])\n",
    "plt.plot(history.history['val_loss'])\n",
    "\n",
    "plt.xlabel('epoch')\n",
    "plt.ylabel('loss')\n",
    "plt.legend(['train', 'val'])\n",
    "\n",
    "plt.show()"
   ]
  },
  {
   "cell_type": "markdown",
   "metadata": {},
   "source": [
    "> simple rnn 보다 lstm이 더 오차(격차)가 적어졌다."
   ]
  },
  {
   "cell_type": "markdown",
   "metadata": {},
   "source": [
    "---\n",
    "### 순환층에 dropout 적용"
   ]
  },
  {
   "cell_type": "code",
   "execution_count": 46,
   "metadata": {},
   "outputs": [
    {
     "name": "stdout",
     "output_type": "stream",
     "text": [
      "Model: \"sequential_3\"\n",
      "_________________________________________________________________\n",
      " Layer (type)                Output Shape              Param #   \n",
      "=================================================================\n",
      " embedding_2 (Embedding)     (None, 100, 16)           8000      \n",
      "                                                                 \n",
      " lstm_2 (LSTM)               (None, 8)                 800       \n",
      "                                                                 \n",
      " dense_3 (Dense)             (None, 1)                 9         \n",
      "                                                                 \n",
      "=================================================================\n",
      "Total params: 8,809\n",
      "Trainable params: 8,809\n",
      "Non-trainable params: 0\n",
      "_________________________________________________________________\n"
     ]
    }
   ],
   "source": [
    "model = keras.Sequential()\n",
    "model.add(keras.layers.Embedding(500, 16, input_length=100)) # Embedding() : one hot encoding\n",
    "model.add(keras.layers.LSTM(8, dropout=0.3)) # 8: cells, dropout: 30%, 문장을 덜 가져오는 것.\n",
    "model.add(keras.layers.Dense(1, activation='sigmoid'))\n",
    "\n",
    "model.summary()"
   ]
  },
  {
   "cell_type": "code",
   "execution_count": 47,
   "metadata": {},
   "outputs": [
    {
     "name": "stdout",
     "output_type": "stream",
     "text": [
      "Epoch 1/100\n",
      "313/313 [==============================] - 15s 36ms/step - loss: 0.6926 - accuracy: 0.5242 - val_loss: 0.6921 - val_accuracy: 0.5504\n",
      "Epoch 2/100\n",
      "313/313 [==============================] - 11s 34ms/step - loss: 0.6910 - accuracy: 0.5780 - val_loss: 0.6900 - val_accuracy: 0.5964\n",
      "Epoch 3/100\n",
      "313/313 [==============================] - 9s 30ms/step - loss: 0.6879 - accuracy: 0.6147 - val_loss: 0.6858 - val_accuracy: 0.6272\n",
      "Epoch 4/100\n",
      "313/313 [==============================] - 9s 30ms/step - loss: 0.6809 - accuracy: 0.6423 - val_loss: 0.6758 - val_accuracy: 0.6434\n",
      "Epoch 5/100\n",
      "313/313 [==============================] - 10s 31ms/step - loss: 0.6587 - accuracy: 0.6538 - val_loss: 0.6355 - val_accuracy: 0.6430\n",
      "Epoch 6/100\n",
      "313/313 [==============================] - 10s 31ms/step - loss: 0.5998 - accuracy: 0.7081 - val_loss: 0.5820 - val_accuracy: 0.7362\n",
      "Epoch 7/100\n",
      "313/313 [==============================] - 10s 32ms/step - loss: 0.5660 - accuracy: 0.7384 - val_loss: 0.5555 - val_accuracy: 0.7526\n",
      "Epoch 8/100\n",
      "313/313 [==============================] - 9s 29ms/step - loss: 0.5438 - accuracy: 0.7520 - val_loss: 0.5423 - val_accuracy: 0.7594\n",
      "Epoch 9/100\n",
      "313/313 [==============================] - 8s 27ms/step - loss: 0.5259 - accuracy: 0.7613 - val_loss: 0.5179 - val_accuracy: 0.7680\n",
      "Epoch 10/100\n",
      "313/313 [==============================] - 9s 30ms/step - loss: 0.5103 - accuracy: 0.7663 - val_loss: 0.5023 - val_accuracy: 0.7780\n",
      "Epoch 11/100\n",
      "313/313 [==============================] - 9s 28ms/step - loss: 0.4959 - accuracy: 0.7747 - val_loss: 0.4900 - val_accuracy: 0.7760\n",
      "Epoch 12/100\n",
      "313/313 [==============================] - 9s 30ms/step - loss: 0.4822 - accuracy: 0.7821 - val_loss: 0.4787 - val_accuracy: 0.7790\n",
      "Epoch 13/100\n",
      "313/313 [==============================] - 10s 31ms/step - loss: 0.4731 - accuracy: 0.7849 - val_loss: 0.4702 - val_accuracy: 0.7838\n",
      "Epoch 14/100\n",
      "313/313 [==============================] - 9s 30ms/step - loss: 0.4643 - accuracy: 0.7886 - val_loss: 0.4647 - val_accuracy: 0.7838\n",
      "Epoch 15/100\n",
      "313/313 [==============================] - 10s 31ms/step - loss: 0.4586 - accuracy: 0.7927 - val_loss: 0.4589 - val_accuracy: 0.7910\n",
      "Epoch 16/100\n",
      "313/313 [==============================] - 10s 31ms/step - loss: 0.4522 - accuracy: 0.7962 - val_loss: 0.4572 - val_accuracy: 0.7942\n",
      "Epoch 17/100\n",
      "313/313 [==============================] - 10s 31ms/step - loss: 0.4473 - accuracy: 0.7983 - val_loss: 0.4503 - val_accuracy: 0.7924\n",
      "Epoch 18/100\n",
      "313/313 [==============================] - 10s 31ms/step - loss: 0.4429 - accuracy: 0.8000 - val_loss: 0.4490 - val_accuracy: 0.7904\n",
      "Epoch 19/100\n",
      "313/313 [==============================] - 10s 31ms/step - loss: 0.4399 - accuracy: 0.7994 - val_loss: 0.4457 - val_accuracy: 0.7982\n",
      "Epoch 20/100\n",
      "313/313 [==============================] - 10s 31ms/step - loss: 0.4381 - accuracy: 0.7982 - val_loss: 0.4431 - val_accuracy: 0.7954\n",
      "Epoch 21/100\n",
      "313/313 [==============================] - 10s 31ms/step - loss: 0.4336 - accuracy: 0.8037 - val_loss: 0.4430 - val_accuracy: 0.7942\n",
      "Epoch 22/100\n",
      "313/313 [==============================] - 10s 31ms/step - loss: 0.4309 - accuracy: 0.8056 - val_loss: 0.4409 - val_accuracy: 0.7994\n",
      "Epoch 23/100\n",
      "313/313 [==============================] - 10s 31ms/step - loss: 0.4299 - accuracy: 0.8062 - val_loss: 0.4382 - val_accuracy: 0.8002\n",
      "Epoch 24/100\n",
      "313/313 [==============================] - 10s 31ms/step - loss: 0.4281 - accuracy: 0.8039 - val_loss: 0.4369 - val_accuracy: 0.7996\n",
      "Epoch 25/100\n",
      "313/313 [==============================] - 10s 31ms/step - loss: 0.4252 - accuracy: 0.8066 - val_loss: 0.4358 - val_accuracy: 0.8006\n",
      "Epoch 26/100\n",
      "313/313 [==============================] - 10s 31ms/step - loss: 0.4226 - accuracy: 0.8098 - val_loss: 0.4360 - val_accuracy: 0.8002\n",
      "Epoch 27/100\n",
      "313/313 [==============================] - 10s 31ms/step - loss: 0.4243 - accuracy: 0.8067 - val_loss: 0.4333 - val_accuracy: 0.8016\n",
      "Epoch 28/100\n",
      "313/313 [==============================] - 10s 31ms/step - loss: 0.4227 - accuracy: 0.8086 - val_loss: 0.4339 - val_accuracy: 0.7978\n",
      "Epoch 29/100\n",
      "313/313 [==============================] - 10s 31ms/step - loss: 0.4217 - accuracy: 0.8094 - val_loss: 0.4319 - val_accuracy: 0.8000\n",
      "Epoch 30/100\n",
      "313/313 [==============================] - 10s 31ms/step - loss: 0.4180 - accuracy: 0.8087 - val_loss: 0.4333 - val_accuracy: 0.7976\n",
      "Epoch 31/100\n",
      "313/313 [==============================] - 10s 31ms/step - loss: 0.4181 - accuracy: 0.8114 - val_loss: 0.4303 - val_accuracy: 0.8022\n",
      "Epoch 32/100\n",
      "313/313 [==============================] - 10s 31ms/step - loss: 0.4176 - accuracy: 0.8103 - val_loss: 0.4296 - val_accuracy: 0.8038\n",
      "Epoch 33/100\n",
      "313/313 [==============================] - 10s 31ms/step - loss: 0.4152 - accuracy: 0.8120 - val_loss: 0.4309 - val_accuracy: 0.8032\n",
      "Epoch 34/100\n",
      "313/313 [==============================] - 10s 31ms/step - loss: 0.4166 - accuracy: 0.8109 - val_loss: 0.4312 - val_accuracy: 0.8000\n",
      "Epoch 35/100\n",
      "313/313 [==============================] - 10s 31ms/step - loss: 0.4147 - accuracy: 0.8121 - val_loss: 0.4290 - val_accuracy: 0.8042\n",
      "Epoch 36/100\n",
      "313/313 [==============================] - 10s 32ms/step - loss: 0.4147 - accuracy: 0.8127 - val_loss: 0.4282 - val_accuracy: 0.8036\n",
      "Epoch 37/100\n",
      "313/313 [==============================] - 10s 31ms/step - loss: 0.4119 - accuracy: 0.8130 - val_loss: 0.4301 - val_accuracy: 0.7994\n",
      "Epoch 38/100\n",
      "313/313 [==============================] - 10s 31ms/step - loss: 0.4112 - accuracy: 0.8127 - val_loss: 0.4276 - val_accuracy: 0.8042\n",
      "Epoch 39/100\n",
      "313/313 [==============================] - 10s 31ms/step - loss: 0.4107 - accuracy: 0.8135 - val_loss: 0.4305 - val_accuracy: 0.8068\n",
      "Epoch 40/100\n",
      "313/313 [==============================] - 10s 31ms/step - loss: 0.4106 - accuracy: 0.8155 - val_loss: 0.4293 - val_accuracy: 0.8052\n",
      "Epoch 41/100\n",
      "313/313 [==============================] - 10s 31ms/step - loss: 0.4082 - accuracy: 0.8134 - val_loss: 0.4262 - val_accuracy: 0.8014\n",
      "Epoch 42/100\n",
      "313/313 [==============================] - 10s 31ms/step - loss: 0.4107 - accuracy: 0.8127 - val_loss: 0.4258 - val_accuracy: 0.8052\n",
      "Epoch 43/100\n",
      "313/313 [==============================] - 10s 31ms/step - loss: 0.4083 - accuracy: 0.8137 - val_loss: 0.4258 - val_accuracy: 0.8040\n",
      "Epoch 44/100\n",
      "313/313 [==============================] - 10s 31ms/step - loss: 0.4071 - accuracy: 0.8154 - val_loss: 0.4251 - val_accuracy: 0.8064\n",
      "Epoch 45/100\n",
      "313/313 [==============================] - 10s 33ms/step - loss: 0.4054 - accuracy: 0.8160 - val_loss: 0.4252 - val_accuracy: 0.8052\n",
      "Epoch 46/100\n",
      "313/313 [==============================] - 9s 28ms/step - loss: 0.4061 - accuracy: 0.8150 - val_loss: 0.4252 - val_accuracy: 0.8032\n",
      "Epoch 47/100\n",
      "313/313 [==============================] - 10s 32ms/step - loss: 0.4058 - accuracy: 0.8158 - val_loss: 0.4260 - val_accuracy: 0.8044\n"
     ]
    }
   ],
   "source": [
    "# 훈련\n",
    "rmsprop = keras.optimizers.RMSprop(learning_rate=1e-4)\n",
    "model.compile(\n",
    "    optimizer=rmsprop,\n",
    "    loss='binary_crossentropy',\n",
    "    metrics='accuracy'\n",
    ")\n",
    "\n",
    "checkpoint_cb = keras.callbacks.ModelCheckpoint('../data/best_lstm_dropout_rnn_model.h5')\n",
    "early_stopping_cb = keras.callbacks.EarlyStopping(\n",
    "    patience=3,\n",
    "    restore_best_weights=True, # 최적 weight 기억해둬야 stop 후 해당 값을 출력한다.\n",
    ")\n",
    "\n",
    "history = model.fit(\n",
    "    train_seq,\n",
    "    train_target,\n",
    "    epochs=100, # rnn에서 최소 100개\n",
    "    batch_size=64, # mini batch 경사 하강법. 시간을 줄여보자! (8*8)\n",
    "    validation_data=(val_seq, val_target),\n",
    "    callbacks=[checkpoint_cb, early_stopping_cb]\n",
    ")"
   ]
  },
  {
   "cell_type": "code",
   "execution_count": 48,
   "metadata": {},
   "outputs": [
    {
     "data": {
      "image/png": "[encoded data removed]",
      "text/plain": [
       "<Figure size 432x288 with 1 Axes>"
      ]
     },
     "metadata": {
      "needs_background": "light"
     },
     "output_type": "display_data"
    }
   ],
   "source": [
    "# 시각화\n",
    "plt.plot(history.history['loss'])\n",
    "plt.plot(history.history['val_loss'])\n",
    "\n",
    "plt.xlabel('epoch')\n",
    "plt.ylabel('loss')\n",
    "plt.legend(['train', 'val'])\n",
    "\n",
    "plt.show()"
   ]
  },
  {
   "cell_type": "markdown",
   "metadata": {},
   "source": [
    "---\n",
    "### 2개 층을 연결해보자"
   ]
  },
  {
   "cell_type": "code",
   "execution_count": 49,
   "metadata": {},
   "outputs": [
    {
     "name": "stdout",
     "output_type": "stream",
     "text": [
      "Model: \"sequential_4\"\n",
      "_________________________________________________________________\n",
      " Layer (type)                Output Shape              Param #   \n",
      "=================================================================\n",
      " embedding_3 (Embedding)     (None, 100, 16)           8000      \n",
      "                                                                 \n",
      " lstm_3 (LSTM)               (None, 100, 8)            800       \n",
      "                                                                 \n",
      " lstm_4 (LSTM)               (None, 8)                 544       \n",
      "                                                                 \n",
      " dense_4 (Dense)             (None, 1)                 9         \n",
      "                                                                 \n",
      "=================================================================\n",
      "Total params: 9,353\n",
      "Trainable params: 9,353\n",
      "Non-trainable params: 0\n",
      "_________________________________________________________________\n"
     ]
    }
   ],
   "source": [
    "model = keras.Sequential()\n",
    "model.add(keras.layers.Embedding(500, 16, input_length=100)) # Embedding() : one hot encoding\n",
    "model.add(keras.layers.LSTM(8, dropout=0.3, return_sequences=True)) # 8: cells, dropout: 30%, 문장을 덜 가져오는 것.\n",
    "# return_sequences=True가 있어야 타임스텝의 순서를 가지고 문장으로 인식한다.\n",
    "model.add(keras.layers.LSTM(8, dropout=0.3))\n",
    "model.add(keras.layers.Dense(1, activation='sigmoid'))\n",
    "\n",
    "model.summary()"
   ]
  },
  {
   "cell_type": "code",
   "execution_count": 50,
   "metadata": {},
   "outputs": [
    {
     "name": "stdout",
     "output_type": "stream",
     "text": [
      "Epoch 1/100\n",
      "313/313 [==============================] - 25s 67ms/step - loss: 0.6926 - accuracy: 0.5385 - val_loss: 0.6919 - val_accuracy: 0.5968\n",
      "Epoch 2/100\n",
      "313/313 [==============================] - 20s 64ms/step - loss: 0.6898 - accuracy: 0.6036 - val_loss: 0.6858 - val_accuracy: 0.6490\n",
      "Epoch 3/100\n",
      "313/313 [==============================] - 20s 63ms/step - loss: 0.6694 - accuracy: 0.6575 - val_loss: 0.6372 - val_accuracy: 0.6898\n",
      "Epoch 4/100\n",
      "313/313 [==============================] - 20s 64ms/step - loss: 0.5988 - accuracy: 0.7081 - val_loss: 0.5758 - val_accuracy: 0.7210\n",
      "Epoch 5/100\n",
      "313/313 [==============================] - 20s 64ms/step - loss: 0.5598 - accuracy: 0.7344 - val_loss: 0.5484 - val_accuracy: 0.7428\n",
      "Epoch 6/100\n",
      "313/313 [==============================] - 20s 64ms/step - loss: 0.5403 - accuracy: 0.7448 - val_loss: 0.5283 - val_accuracy: 0.7538\n",
      "Epoch 7/100\n",
      "313/313 [==============================] - 20s 65ms/step - loss: 0.5209 - accuracy: 0.7599 - val_loss: 0.5135 - val_accuracy: 0.7624\n",
      "Epoch 8/100\n",
      "313/313 [==============================] - 20s 64ms/step - loss: 0.5069 - accuracy: 0.7668 - val_loss: 0.4991 - val_accuracy: 0.7718\n",
      "Epoch 9/100\n",
      "313/313 [==============================] - 20s 64ms/step - loss: 0.4967 - accuracy: 0.7725 - val_loss: 0.4896 - val_accuracy: 0.7756\n",
      "Epoch 10/100\n",
      "313/313 [==============================] - 20s 65ms/step - loss: 0.4877 - accuracy: 0.7774 - val_loss: 0.4814 - val_accuracy: 0.7816\n",
      "Epoch 11/100\n",
      "313/313 [==============================] - 21s 68ms/step - loss: 0.4783 - accuracy: 0.7831 - val_loss: 0.4757 - val_accuracy: 0.7812\n",
      "Epoch 12/100\n",
      "313/313 [==============================] - 19s 61ms/step - loss: 0.4715 - accuracy: 0.7858 - val_loss: 0.4729 - val_accuracy: 0.7818\n",
      "Epoch 13/100\n",
      "313/313 [==============================] - 19s 62ms/step - loss: 0.4664 - accuracy: 0.7911 - val_loss: 0.4652 - val_accuracy: 0.7850\n",
      "Epoch 14/100\n",
      "313/313 [==============================] - 19s 61ms/step - loss: 0.4599 - accuracy: 0.7922 - val_loss: 0.4606 - val_accuracy: 0.7864\n",
      "Epoch 15/100\n",
      "313/313 [==============================] - 18s 57ms/step - loss: 0.4580 - accuracy: 0.7930 - val_loss: 0.4563 - val_accuracy: 0.7896\n",
      "Epoch 16/100\n",
      "313/313 [==============================] - 18s 56ms/step - loss: 0.4517 - accuracy: 0.7954 - val_loss: 0.4597 - val_accuracy: 0.7882\n",
      "Epoch 17/100\n",
      "313/313 [==============================] - 18s 57ms/step - loss: 0.4499 - accuracy: 0.7948 - val_loss: 0.4512 - val_accuracy: 0.7922\n",
      "Epoch 18/100\n",
      "313/313 [==============================] - 18s 56ms/step - loss: 0.4457 - accuracy: 0.7987 - val_loss: 0.4484 - val_accuracy: 0.7942\n",
      "Epoch 19/100\n",
      "313/313 [==============================] - 18s 57ms/step - loss: 0.4420 - accuracy: 0.8005 - val_loss: 0.4464 - val_accuracy: 0.7954\n",
      "Epoch 20/100\n",
      "313/313 [==============================] - 18s 57ms/step - loss: 0.4400 - accuracy: 0.8005 - val_loss: 0.4453 - val_accuracy: 0.7962\n",
      "Epoch 21/100\n",
      "313/313 [==============================] - 18s 57ms/step - loss: 0.4385 - accuracy: 0.8019 - val_loss: 0.4423 - val_accuracy: 0.7950\n",
      "Epoch 22/100\n",
      "313/313 [==============================] - 18s 56ms/step - loss: 0.4353 - accuracy: 0.8006 - val_loss: 0.4400 - val_accuracy: 0.7968\n",
      "Epoch 23/100\n",
      "313/313 [==============================] - 18s 57ms/step - loss: 0.4354 - accuracy: 0.8008 - val_loss: 0.4386 - val_accuracy: 0.7958\n",
      "Epoch 24/100\n",
      "313/313 [==============================] - 18s 57ms/step - loss: 0.4334 - accuracy: 0.8040 - val_loss: 0.4382 - val_accuracy: 0.7934\n",
      "Epoch 25/100\n",
      "313/313 [==============================] - 18s 57ms/step - loss: 0.4310 - accuracy: 0.8058 - val_loss: 0.4381 - val_accuracy: 0.7920\n",
      "Epoch 26/100\n",
      "313/313 [==============================] - 17s 55ms/step - loss: 0.4294 - accuracy: 0.8059 - val_loss: 0.4372 - val_accuracy: 0.7996\n",
      "Epoch 27/100\n",
      "313/313 [==============================] - 19s 62ms/step - loss: 0.4290 - accuracy: 0.8063 - val_loss: 0.4347 - val_accuracy: 0.7974\n",
      "Epoch 28/100\n",
      "313/313 [==============================] - 20s 64ms/step - loss: 0.4262 - accuracy: 0.8075 - val_loss: 0.4345 - val_accuracy: 0.7940\n",
      "Epoch 29/100\n",
      "313/313 [==============================] - 19s 62ms/step - loss: 0.4265 - accuracy: 0.8074 - val_loss: 0.4324 - val_accuracy: 0.7986\n",
      "Epoch 30/100\n",
      "313/313 [==============================] - 18s 57ms/step - loss: 0.4254 - accuracy: 0.8084 - val_loss: 0.4317 - val_accuracy: 0.8010\n",
      "Epoch 31/100\n",
      "313/313 [==============================] - 19s 59ms/step - loss: 0.4247 - accuracy: 0.8081 - val_loss: 0.4310 - val_accuracy: 0.7988\n",
      "Epoch 32/100\n",
      "313/313 [==============================] - 18s 57ms/step - loss: 0.4229 - accuracy: 0.8054 - val_loss: 0.4306 - val_accuracy: 0.8000\n",
      "Epoch 33/100\n",
      "313/313 [==============================] - 17s 54ms/step - loss: 0.4215 - accuracy: 0.8073 - val_loss: 0.4298 - val_accuracy: 0.8018\n",
      "Epoch 34/100\n",
      "313/313 [==============================] - 17s 55ms/step - loss: 0.4206 - accuracy: 0.8075 - val_loss: 0.4297 - val_accuracy: 0.8042\n",
      "Epoch 35/100\n",
      "313/313 [==============================] - 17s 54ms/step - loss: 0.4213 - accuracy: 0.8088 - val_loss: 0.4297 - val_accuracy: 0.8026\n",
      "Epoch 36/100\n",
      "313/313 [==============================] - 16s 52ms/step - loss: 0.4201 - accuracy: 0.8091 - val_loss: 0.4319 - val_accuracy: 0.7986\n",
      "Epoch 37/100\n",
      "313/313 [==============================] - 17s 54ms/step - loss: 0.4183 - accuracy: 0.8077 - val_loss: 0.4385 - val_accuracy: 0.7928\n"
     ]
    }
   ],
   "source": [
    "# 훈련\n",
    "rmsprop = keras.optimizers.RMSprop(learning_rate=1e-4)\n",
    "model.compile(\n",
    "    optimizer=rmsprop,\n",
    "    loss='binary_crossentropy',\n",
    "    metrics='accuracy'\n",
    ")\n",
    "\n",
    "checkpoint_cb = keras.callbacks.ModelCheckpoint('../data/best_lstm_2rnn_model.h5')\n",
    "early_stopping_cb = keras.callbacks.EarlyStopping(\n",
    "    patience=3,\n",
    "    restore_best_weights=True, # 최적 weight 기억해둬야 stop 후 해당 값을 출력한다.\n",
    ")\n",
    "\n",
    "history = model.fit(\n",
    "    train_seq,\n",
    "    train_target,\n",
    "    epochs=100, # rnn에서 최소 100개\n",
    "    batch_size=64, # mini batch 경사 하강법. 시간을 줄여보자! (8*8)\n",
    "    validation_data=(val_seq, val_target),\n",
    "    callbacks=[checkpoint_cb, early_stopping_cb]\n",
    ")"
   ]
  },
  {
   "cell_type": "code",
   "execution_count": 51,
   "metadata": {},
   "outputs": [
    {
     "data": {
      "image/png": "[encoded data removed]",
      "text/plain": [
       "<Figure size 432x288 with 1 Axes>"
      ]
     },
     "metadata": {
      "needs_background": "light"
     },
     "output_type": "display_data"
    }
   ],
   "source": [
    "# 시각화\n",
    "plt.plot(history.history['loss'])\n",
    "plt.plot(history.history['val_loss'])\n",
    "\n",
    "plt.xlabel('epoch')\n",
    "plt.ylabel('loss')\n",
    "plt.legend(['train', 'val'])\n",
    "\n",
    "plt.show()"
   ]
  },
  {
   "cell_type": "markdown",
   "metadata": {},
   "source": [
    "---\n",
    "### GRU(Gated Recurrent Unit) 신경망\n",
    "- LSTM의 간소화 버전"
   ]
  },
  {
   "cell_type": "code",
   "execution_count": 52,
   "metadata": {},
   "outputs": [
    {
     "name": "stdout",
     "output_type": "stream",
     "text": [
      "Model: \"sequential_5\"\n",
      "_________________________________________________________________\n",
      " Layer (type)                Output Shape              Param #   \n",
      "=================================================================\n",
      " embedding_4 (Embedding)     (None, 100, 16)           8000      \n",
      "                                                                 \n",
      " gru (GRU)                   (None, 8)                 624       \n",
      "                                                                 \n",
      " dense_5 (Dense)             (None, 1)                 9         \n",
      "                                                                 \n",
      "=================================================================\n",
      "Total params: 8,633\n",
      "Trainable params: 8,633\n",
      "Non-trainable params: 0\n",
      "_________________________________________________________________\n"
     ]
    }
   ],
   "source": [
    "model = keras.Sequential()\n",
    "\n",
    "model.add(keras.layers.Embedding(500, 16, input_length=100)) # Embedding() : one hot encoding\n",
    "model.add(keras.layers.GRU(8)) # 8: cells, dropout 필요없다. 알아서 줄여주기 때문\n",
    "model.add(keras.layers.Dense(1, activation='sigmoid'))\n",
    "\n",
    "model.summary()"
   ]
  },
  {
   "cell_type": "markdown",
   "metadata": {},
   "source": [
    "> LSTM 800개일 때 GRU는 624개이다."
   ]
  },
  {
   "cell_type": "code",
   "execution_count": 53,
   "metadata": {},
   "outputs": [
    {
     "name": "stdout",
     "output_type": "stream",
     "text": [
      "Epoch 1/100\n",
      "313/313 [==============================] - 13s 34ms/step - loss: 0.6924 - accuracy: 0.5211 - val_loss: 0.6914 - val_accuracy: 0.5426\n",
      "Epoch 2/100\n",
      "313/313 [==============================] - 10s 31ms/step - loss: 0.6901 - accuracy: 0.5652 - val_loss: 0.6886 - val_accuracy: 0.5822\n",
      "Epoch 3/100\n",
      "313/313 [==============================] - 11s 36ms/step - loss: 0.6863 - accuracy: 0.5979 - val_loss: 0.6839 - val_accuracy: 0.5982\n",
      "Epoch 4/100\n",
      "313/313 [==============================] - 11s 34ms/step - loss: 0.6794 - accuracy: 0.6149 - val_loss: 0.6755 - val_accuracy: 0.6176\n",
      "Epoch 5/100\n",
      "313/313 [==============================] - 11s 35ms/step - loss: 0.6674 - accuracy: 0.6316 - val_loss: 0.6608 - val_accuracy: 0.6380\n",
      "Epoch 6/100\n",
      "313/313 [==============================] - 11s 34ms/step - loss: 0.6466 - accuracy: 0.6534 - val_loss: 0.6342 - val_accuracy: 0.6656\n",
      "Epoch 7/100\n",
      "313/313 [==============================] - 11s 36ms/step - loss: 0.6073 - accuracy: 0.6879 - val_loss: 0.5821 - val_accuracy: 0.7068\n",
      "Epoch 8/100\n",
      "313/313 [==============================] - 11s 34ms/step - loss: 0.5386 - accuracy: 0.7394 - val_loss: 0.5238 - val_accuracy: 0.7430\n",
      "Epoch 9/100\n",
      "313/313 [==============================] - 11s 34ms/step - loss: 0.5044 - accuracy: 0.7597 - val_loss: 0.5058 - val_accuracy: 0.7588\n",
      "Epoch 10/100\n",
      "313/313 [==============================] - 11s 34ms/step - loss: 0.4881 - accuracy: 0.7691 - val_loss: 0.4979 - val_accuracy: 0.7598\n",
      "Epoch 11/100\n",
      "313/313 [==============================] - 11s 34ms/step - loss: 0.4751 - accuracy: 0.7788 - val_loss: 0.4841 - val_accuracy: 0.7718\n",
      "Epoch 12/100\n",
      "313/313 [==============================] - 11s 34ms/step - loss: 0.4634 - accuracy: 0.7882 - val_loss: 0.4769 - val_accuracy: 0.7744\n",
      "Epoch 13/100\n",
      "313/313 [==============================] - 11s 35ms/step - loss: 0.4547 - accuracy: 0.7932 - val_loss: 0.4699 - val_accuracy: 0.7812\n",
      "Epoch 14/100\n",
      "313/313 [==============================] - 11s 35ms/step - loss: 0.4476 - accuracy: 0.7987 - val_loss: 0.4644 - val_accuracy: 0.7844\n",
      "Epoch 15/100\n",
      "313/313 [==============================] - 11s 34ms/step - loss: 0.4414 - accuracy: 0.8018 - val_loss: 0.4603 - val_accuracy: 0.7862\n",
      "Epoch 16/100\n",
      "313/313 [==============================] - 11s 34ms/step - loss: 0.4376 - accuracy: 0.8038 - val_loss: 0.4577 - val_accuracy: 0.7910\n",
      "Epoch 17/100\n",
      "313/313 [==============================] - 11s 34ms/step - loss: 0.4336 - accuracy: 0.8055 - val_loss: 0.4558 - val_accuracy: 0.7908\n",
      "Epoch 18/100\n",
      "313/313 [==============================] - 11s 34ms/step - loss: 0.4311 - accuracy: 0.8077 - val_loss: 0.4524 - val_accuracy: 0.7912\n",
      "Epoch 19/100\n",
      "313/313 [==============================] - 11s 34ms/step - loss: 0.4284 - accuracy: 0.8097 - val_loss: 0.4505 - val_accuracy: 0.7902\n",
      "Epoch 20/100\n",
      "313/313 [==============================] - 11s 34ms/step - loss: 0.4266 - accuracy: 0.8105 - val_loss: 0.4496 - val_accuracy: 0.7936\n",
      "Epoch 21/100\n",
      "313/313 [==============================] - 11s 34ms/step - loss: 0.4250 - accuracy: 0.8109 - val_loss: 0.4493 - val_accuracy: 0.7918\n",
      "Epoch 22/100\n",
      "313/313 [==============================] - 11s 34ms/step - loss: 0.4236 - accuracy: 0.8126 - val_loss: 0.4485 - val_accuracy: 0.7904\n",
      "Epoch 23/100\n",
      "313/313 [==============================] - 11s 34ms/step - loss: 0.4221 - accuracy: 0.8134 - val_loss: 0.4465 - val_accuracy: 0.7934\n",
      "Epoch 24/100\n",
      "313/313 [==============================] - 11s 35ms/step - loss: 0.4213 - accuracy: 0.8117 - val_loss: 0.4458 - val_accuracy: 0.7922\n",
      "Epoch 25/100\n",
      "313/313 [==============================] - 11s 34ms/step - loss: 0.4200 - accuracy: 0.8140 - val_loss: 0.4451 - val_accuracy: 0.7908\n",
      "Epoch 26/100\n",
      "313/313 [==============================] - 11s 34ms/step - loss: 0.4193 - accuracy: 0.8131 - val_loss: 0.4494 - val_accuracy: 0.7904\n",
      "Epoch 27/100\n",
      "313/313 [==============================] - 11s 34ms/step - loss: 0.4186 - accuracy: 0.8131 - val_loss: 0.4443 - val_accuracy: 0.7916\n",
      "Epoch 28/100\n",
      "313/313 [==============================] - 11s 34ms/step - loss: 0.4177 - accuracy: 0.8138 - val_loss: 0.4462 - val_accuracy: 0.7960\n",
      "Epoch 29/100\n",
      "313/313 [==============================] - 11s 36ms/step - loss: 0.4172 - accuracy: 0.8140 - val_loss: 0.4460 - val_accuracy: 0.7894\n",
      "Epoch 30/100\n",
      "313/313 [==============================] - 11s 34ms/step - loss: 0.4166 - accuracy: 0.8144 - val_loss: 0.4424 - val_accuracy: 0.7940\n",
      "Epoch 31/100\n",
      "313/313 [==============================] - 11s 34ms/step - loss: 0.4160 - accuracy: 0.8156 - val_loss: 0.4423 - val_accuracy: 0.7928\n",
      "Epoch 32/100\n",
      "313/313 [==============================] - 11s 34ms/step - loss: 0.4153 - accuracy: 0.8148 - val_loss: 0.4413 - val_accuracy: 0.7972\n",
      "Epoch 33/100\n",
      "313/313 [==============================] - 11s 34ms/step - loss: 0.4146 - accuracy: 0.8154 - val_loss: 0.4408 - val_accuracy: 0.7936\n",
      "Epoch 34/100\n",
      "313/313 [==============================] - 11s 34ms/step - loss: 0.4146 - accuracy: 0.8141 - val_loss: 0.4459 - val_accuracy: 0.7952\n",
      "Epoch 35/100\n",
      "313/313 [==============================] - 11s 34ms/step - loss: 0.4144 - accuracy: 0.8143 - val_loss: 0.4423 - val_accuracy: 0.7932\n",
      "Epoch 36/100\n",
      "313/313 [==============================] - 11s 34ms/step - loss: 0.4137 - accuracy: 0.8156 - val_loss: 0.4426 - val_accuracy: 0.7970\n"
     ]
    }
   ],
   "source": [
    "# 훈련\n",
    "rmsprop = keras.optimizers.RMSprop(learning_rate=1e-4)\n",
    "model.compile(\n",
    "    optimizer=rmsprop,\n",
    "    loss='binary_crossentropy',\n",
    "    metrics='accuracy'\n",
    ")\n",
    "\n",
    "checkpoint_cb = keras.callbacks.ModelCheckpoint('../data/best_GRU_rnn_model.h5')\n",
    "early_stopping_cb = keras.callbacks.EarlyStopping(\n",
    "    patience=3,\n",
    "    restore_best_weights=True, # 최적 weight 기억해둬야 stop 후 해당 값을 출력한다.\n",
    ")\n",
    "\n",
    "history = model.fit(\n",
    "    train_seq,\n",
    "    train_target,\n",
    "    epochs=100, # rnn에서 최소 100개\n",
    "    batch_size=64, # mini batch 경사 하강법. 시간을 줄여보자! (8*8)\n",
    "    validation_data=(val_seq, val_target),\n",
    "    callbacks=[checkpoint_cb, early_stopping_cb]\n",
    ")"
   ]
  },
  {
   "cell_type": "code",
   "execution_count": 54,
   "metadata": {},
   "outputs": [
    {
     "data": {
      "image/png": "[encoded data removed]",
      "text/plain": [
       "<Figure size 432x288 with 1 Axes>"
      ]
     },
     "metadata": {
      "needs_background": "light"
     },
     "output_type": "display_data"
    },
    {
     "ename": "",
     "evalue": "",
     "output_type": "error",
     "traceback": [
      "\u001b[1;31m현재 셀 또는 이전 셀에서 코드를 실행하는 동안 Kernel이 충돌했습니다. 셀의 코드를 검토하여 오류의 가능한 원인을 식별하세요. 자세한 내용을 보려면 <a href='https://aka.ms/vscodeJupyterKernelCrash'> 여기 </a> 를 클릭하세요. 자세한 내용은 Jupyter <a href='command:jupyter.viewOutput'>로그</a>를 참조하세요."
     ]
    }
   ],
   "source": [
    "# 시각화\n",
    "plt.plot(history.history['loss'])\n",
    "plt.plot(history.history['val_loss'])\n",
    "\n",
    "plt.xlabel('epoch')\n",
    "plt.ylabel('loss')\n",
    "plt.legend(['train', 'val'])\n",
    "\n",
    "plt.show()"
   ]
  },
  {
   "cell_type": "markdown",
   "metadata": {},
   "source": [
    "> model 사이즈가 줄었다."
   ]
  }
 ],
 "metadata": {
  "kernelspec": {
   "display_name": "Python 3.9.7 ('base')",
   "language": "python",
   "name": "python3"
  },
  "language_info": {
   "codemirror_mode": {
    "name": "ipython",
    "version": 3
   },
   "file_extension": ".py",
   "mimetype": "text/x-python",
   "name": "python",
   "nbconvert_exporter": "python",
   "pygments_lexer": "ipython3",
   "version": "3.9.7"
  },
  "orig_nbformat": 4,
  "vscode": {
   "interpreter": {
    "hash": "c34e8390e776d2ee205b71ed5a6130fee3cef8da5e87e926ce18e14f4a070d72"
   }
  }
 },
 "nbformat": 4,
 "nbformat_minor": 2
}
