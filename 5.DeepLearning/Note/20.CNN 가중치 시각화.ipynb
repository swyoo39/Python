{
 "cells": [
  {
   "cell_type": "code",
   "execution_count": 1,
   "metadata": {},
   "outputs": [],
   "source": [
    "from tensorflow import keras"
   ]
  },
  {
   "cell_type": "code",
   "execution_count": 7,
   "metadata": {},
   "outputs": [],
   "source": [
    "import numpy as np"
   ]
  },
  {
   "cell_type": "code",
   "execution_count": 2,
   "metadata": {},
   "outputs": [
    {
     "name": "stderr",
     "output_type": "stream",
     "text": [
      "2022-07-28 10:37:48.872712: I tensorflow/core/platform/cpu_feature_guard.cc:193] This TensorFlow binary is optimized with oneAPI Deep Neural Network Library (oneDNN) to use the following CPU instructions in performance-critical operations:  AVX2 FMA\n",
      "To enable them in other operations, rebuild TensorFlow with the appropriate compiler flags.\n"
     ]
    }
   ],
   "source": [
    "# h5 model 불러오기\n",
    "\n",
    "model = keras.models.load_model('../data/best_cnn_model.h5')"
   ]
  },
  {
   "cell_type": "code",
   "execution_count": 3,
   "metadata": {},
   "outputs": [
    {
     "data": {
      "text/plain": [
       "[<keras.layers.convolutional.conv2d.Conv2D at 0x7f96cd271820>,\n",
       " <keras.layers.pooling.max_pooling2d.MaxPooling2D at 0x7f96cd271d00>,\n",
       " <keras.layers.convolutional.conv2d.Conv2D at 0x7f96cdb49490>,\n",
       " <keras.layers.pooling.max_pooling2d.MaxPooling2D at 0x7f96cdb49fa0>,\n",
       " <keras.layers.reshaping.flatten.Flatten at 0x7f96cdb86730>,\n",
       " <keras.layers.core.dense.Dense at 0x7f96cdb90820>,\n",
       " <keras.layers.regularization.dropout.Dropout at 0x7f96cdb908e0>,\n",
       " <keras.layers.core.dense.Dense at 0x7f96cdb90b80>]"
      ]
     },
     "execution_count": 3,
     "metadata": {},
     "output_type": "execute_result"
    }
   ],
   "source": [
    "# model의 layer 확인하기\n",
    "\n",
    "model.layers"
   ]
  },
  {
   "cell_type": "markdown",
   "metadata": {},
   "source": [
    "---\n",
    "### kernel size 3x3으로 구성된 이미지 보기"
   ]
  },
  {
   "cell_type": "code",
   "execution_count": 6,
   "metadata": {},
   "outputs": [
    {
     "name": "stdout",
     "output_type": "stream",
     "text": [
      "(3, 3, 1, 32) (32,)\n"
     ]
    }
   ],
   "source": [
    "# 32개의 노드로 구성된 convolutional layer 선택\n",
    "\n",
    "conv = model.layers[0]\n",
    "print(conv.weights[0].shape, conv.weights[1].shape)"
   ]
  },
  {
   "cell_type": "code",
   "execution_count": 8,
   "metadata": {},
   "outputs": [
    {
     "name": "stdout",
     "output_type": "stream",
     "text": [
      "-0.03381861 0.27710915\n"
     ]
    }
   ],
   "source": [
    "# 가중치 보기\n",
    "\n",
    "conv_weights = conv.weights[0].numpy()\n",
    "print(conv_weights.mean(), conv_weights.std())"
   ]
  },
  {
   "cell_type": "code",
   "execution_count": 9,
   "metadata": {},
   "outputs": [
    {
     "data": {
      "text/plain": [
       "array([[[[-4.71345782e-01, -1.96989268e-01,  9.12966859e-03,\n",
       "           1.55572295e-01,  1.37606338e-01,  2.11760312e-01,\n",
       "          -2.34031573e-01, -1.10544316e-01,  2.75789320e-01,\n",
       "          -7.35822916e-02,  3.16341311e-01,  7.07802325e-02,\n",
       "           1.60496160e-01,  5.38134053e-02,  1.11249655e-01,\n",
       "           1.06385268e-01, -3.39356363e-01, -1.19469307e-01,\n",
       "           5.89024462e-02, -9.85162631e-02,  2.18073670e-02,\n",
       "          -3.63060594e-01,  1.90702975e-01,  2.85976052e-01,\n",
       "           4.10148054e-02, -2.30065241e-01, -3.78591418e-02,\n",
       "           2.95635253e-01,  5.83022684e-02,  1.55253679e-01,\n",
       "           2.75029361e-01,  2.54508164e-02]],\n",
       "\n",
       "        [[ 2.77295083e-01, -2.76825786e-01,  9.25671235e-02,\n",
       "           2.33808547e-01,  9.75810811e-02,  3.23723465e-01,\n",
       "           1.99037343e-01, -1.62020877e-01,  3.60586904e-02,\n",
       "          -9.89552401e-03,  1.03752173e-01, -2.02268306e-02,\n",
       "           1.66723400e-01,  6.19984567e-02,  2.18657240e-01,\n",
       "           1.99292406e-01,  2.44360209e-01, -2.87385583e-01,\n",
       "           2.66614586e-01,  1.22152254e-01,  7.28676319e-02,\n",
       "          -1.53601795e-01, -1.01283693e+00,  4.54152673e-02,\n",
       "          -2.38678724e-01,  8.00676793e-02, -3.74496788e-01,\n",
       "          -2.57042527e-01,  1.74432546e-01,  2.71724790e-01,\n",
       "          -2.06987545e-01,  3.23030591e-01]],\n",
       "\n",
       "        [[ 1.65159449e-01, -6.88215420e-02,  3.90120111e-02,\n",
       "           1.77504450e-01,  1.26755148e-01,  4.79969457e-02,\n",
       "           8.21985304e-02,  2.78346539e-01, -2.02397183e-01,\n",
       "           6.79389387e-02,  7.42634609e-02,  4.11963351e-02,\n",
       "          -3.22544426e-01, -9.63746235e-02, -8.66738707e-02,\n",
       "          -2.82657117e-01,  6.90909103e-02, -4.39424701e-02,\n",
       "          -1.77648559e-01,  1.86971817e-02, -3.30725312e-01,\n",
       "           7.93718100e-02, -9.53331947e-01, -3.23037416e-01,\n",
       "           9.89948511e-02,  1.08451188e-01, -3.37491244e-01,\n",
       "          -3.25926766e-03,  6.57324642e-02, -2.26090893e-01,\n",
       "          -3.97864878e-02,  2.93397099e-01]]],\n",
       "\n",
       "\n",
       "       [[[ 1.82810217e-01, -1.92861497e-01,  4.24982905e-02,\n",
       "          -1.74073115e-01,  8.65818709e-02,  2.53062010e-01,\n",
       "          -1.89717695e-01,  1.44659383e-02, -1.75228417e-01,\n",
       "          -1.21916182e-01, -7.79145181e-01, -1.07612051e-01,\n",
       "          -7.58616924e-02,  1.15567043e-01,  1.52060717e-01,\n",
       "           1.32510453e-01,  2.90882945e-01,  1.74014434e-01,\n",
       "          -2.04480350e-01, -1.29547700e-01,  3.02258193e-01,\n",
       "           1.75901890e-01, -2.01868243e-03,  1.46639496e-01,\n",
       "           1.93349749e-01, -2.74922848e-01,  3.18436325e-01,\n",
       "           3.41752052e-01,  6.87550083e-02, -2.33463600e-01,\n",
       "           2.62371063e-01,  1.60406202e-01]],\n",
       "\n",
       "        [[-6.76244721e-02, -1.09489277e-01,  8.40801224e-02,\n",
       "          -3.78146470e-02,  6.16551861e-02, -4.56261635e-01,\n",
       "          -1.28381431e-01, -1.88781708e-01,  2.72985518e-01,\n",
       "           6.95772544e-02, -1.08724105e+00,  8.92762691e-02,\n",
       "           2.71879494e-01,  1.03503071e-01,  7.11089447e-02,\n",
       "           1.94897145e-01, -8.13016519e-02,  2.93553352e-01,\n",
       "           2.75594383e-01,  1.61785588e-01, -1.46529794e-01,\n",
       "           2.94200391e-01, -4.76299345e-01, -1.74826220e-01,\n",
       "          -4.07676041e-01,  1.98545709e-01,  2.82303631e-01,\n",
       "          -3.11037004e-01,  5.78443706e-02, -1.77473292e-01,\n",
       "          -1.92425892e-01,  1.90921813e-01]],\n",
       "\n",
       "        [[-6.52979836e-02,  3.03340137e-01, -1.61074758e-01,\n",
       "          -4.18933816e-02,  1.06288210e-01, -6.28486872e-01,\n",
       "           3.22760254e-01,  1.40201434e-01,  5.19905984e-02,\n",
       "           3.09495591e-02, -6.95730865e-01,  1.31147727e-01,\n",
       "          -1.86765149e-01,  1.76261887e-02, -1.64870352e-01,\n",
       "          -3.27789903e-01, -1.35768130e-01,  2.13713318e-01,\n",
       "          -6.28773170e-03, -1.20719299e-01, -1.28297657e-01,\n",
       "           1.47454202e-01, -5.49024761e-01,  3.42318192e-02,\n",
       "          -3.68888795e-01,  6.26536831e-02,  9.89104435e-02,\n",
       "          -7.58007690e-02,  1.52447606e-02,  3.89620125e-01,\n",
       "          -4.66158167e-02, -5.28978072e-02]]],\n",
       "\n",
       "\n",
       "       [[[ 2.74394453e-01,  2.68884212e-01, -5.16505614e-02,\n",
       "          -7.15483725e-02,  1.19122863e-01, -1.60026684e-01,\n",
       "          -8.76814425e-02, -1.28071830e-01, -3.65363091e-01,\n",
       "          -2.49961585e-01, -8.60907674e-01, -5.51558845e-03,\n",
       "           6.56616837e-02, -3.22645996e-04,  1.41147897e-01,\n",
       "          -1.07562616e-01,  2.86516305e-02, -5.57229575e-03,\n",
       "          -2.54522413e-01, -1.35764167e-01,  1.53438240e-01,\n",
       "           1.12691134e-01,  7.47944564e-02, -2.06871286e-01,\n",
       "           3.02159458e-01, -3.29411268e-01, -8.42149779e-02,\n",
       "           7.11178854e-02, -3.47976014e-02, -2.27469698e-01,\n",
       "           1.79188162e-01, -2.61637685e-03]],\n",
       "\n",
       "        [[-1.95178479e-01,  5.15545905e-03, -3.53585258e-02,\n",
       "          -2.92907469e-02,  1.17118493e-01, -1.48113155e+00,\n",
       "          -1.80797815e-01,  1.00150360e-02,  1.29715085e-01,\n",
       "           1.44957989e-01, -1.40017951e+00,  1.95549568e-03,\n",
       "           1.56035990e-01, -2.46517256e-01,  2.18419265e-02,\n",
       "           2.38954335e-01, -1.88702077e-01,  1.52642773e-02,\n",
       "          -1.45463765e-01, -1.89206764e-01,  1.24739543e-01,\n",
       "          -1.39586823e-02,  1.69277236e-01, -1.68696061e-01,\n",
       "           2.54315883e-01,  3.33334565e-01,  1.02472536e-01,\n",
       "          -1.85930476e-01, -2.27847565e-02, -2.32517347e-01,\n",
       "          -1.27028972e-01, -4.57452267e-01]],\n",
       "\n",
       "        [[-1.46910742e-01,  1.88311026e-01, -1.59828112e-01,\n",
       "           1.77568141e-02,  3.10910046e-02, -1.39328051e+00,\n",
       "           2.50268996e-01,  1.13633499e-01,  8.80999491e-02,\n",
       "           8.49230215e-02, -6.15024030e-01,  6.72308803e-02,\n",
       "          -2.22487181e-01,  4.56797555e-02, -3.26788634e-01,\n",
       "          -1.34438232e-01,  3.65702286e-02, -2.42686361e-01,\n",
       "           2.69709826e-01, -1.79911107e-02, -1.20447194e-02,\n",
       "          -2.95173198e-01,  2.24639624e-01,  3.49254489e-01,\n",
       "           4.27092910e-02,  2.85462532e-02, -1.03395976e-01,\n",
       "           1.48782074e-01, -3.09945583e-01,  2.82021791e-01,\n",
       "          -4.05395702e-02, -6.21424198e-01]]]], dtype=float32)"
      ]
     },
     "execution_count": 9,
     "metadata": {},
     "output_type": "execute_result"
    }
   ],
   "source": [
    "conv_weights"
   ]
  },
  {
   "cell_type": "code",
   "execution_count": 10,
   "metadata": {},
   "outputs": [],
   "source": [
    "import matplotlib.pyplot as plt"
   ]
  },
  {
   "cell_type": "code",
   "execution_count": 11,
   "metadata": {},
   "outputs": [
    {
     "data": {
      "image/png": "[encoded data removed]",
      "text/plain": [
       "<Figure size 432x288 with 1 Axes>"
      ]
     },
     "metadata": {
      "needs_background": "light"
     },
     "output_type": "display_data"
    }
   ],
   "source": [
    "# 시각화\n",
    "\n",
    "plt.hist(conv_weights.reshape(-1, 1))\n",
    "plt.xlabel('weight')\n",
    "plt.ylabel('count')\n",
    "plt.show()"
   ]
  },
  {
   "cell_type": "markdown",
   "metadata": {},
   "source": [
    "> 밝은 색이 많은 이미지"
   ]
  },
  {
   "cell_type": "code",
   "execution_count": 12,
   "metadata": {},
   "outputs": [
    {
     "data": {
      "image/png": "[encoded data removed]",
      "text/plain": [
       "<Figure size 1080x144 with 32 Axes>"
      ]
     },
     "metadata": {
      "needs_background": "light"
     },
     "output_type": "display_data"
    }
   ],
   "source": [
    "# 이미지로 확인하기\n",
    "\n",
    "fig, axs = plt.subplots(2, 16, figsize=(15,2))\n",
    "for i in range(2):\n",
    "    for j in range(16):\n",
    "        axs[i, j].imshow(conv_weights[:,:,0,i*16+j]) # 4차원 데이터, (3, 3, 1, 32)\n",
    "        axs[i,j].axis('off')\n",
    "plt.show()"
   ]
  },
  {
   "cell_type": "markdown",
   "metadata": {},
   "source": [
    "---\n",
    "### 특성맵 시각화"
   ]
  },
  {
   "cell_type": "code",
   "execution_count": 13,
   "metadata": {},
   "outputs": [
    {
     "name": "stdout",
     "output_type": "stream",
     "text": [
      "KerasTensor(type_spec=TensorSpec(shape=(None, 28, 28, 1), dtype=tf.float32, name='conv2d_input'), name='conv2d_input', description=\"created by layer 'conv2d_input'\")\n"
     ]
    }
   ],
   "source": [
    "print(model.input)"
   ]
  },
  {
   "cell_type": "code",
   "execution_count": 14,
   "metadata": {},
   "outputs": [],
   "source": [
    "# Model 불러오기\n",
    "conv_acti = keras.models.Model(model.input, model.layers[0].output) # 함수용"
   ]
  },
  {
   "cell_type": "code",
   "execution_count": 15,
   "metadata": {},
   "outputs": [],
   "source": [
    "(train_input, train_target), (test_input, test_target) = keras.datasets.fashion_mnist.load_data()"
   ]
  },
  {
   "cell_type": "code",
   "execution_count": 18,
   "metadata": {},
   "outputs": [
    {
     "data": {
      "image/png": "[encoded data removed]",
      "text/plain": [
       "<Figure size 432x288 with 1 Axes>"
      ]
     },
     "metadata": {
      "needs_background": "light"
     },
     "output_type": "display_data"
    }
   ],
   "source": [
    "plt.imshow(train_input[0])\n",
    "plt.show()"
   ]
  },
  {
   "cell_type": "code",
   "execution_count": 20,
   "metadata": {},
   "outputs": [
    {
     "name": "stdout",
     "output_type": "stream",
     "text": [
      "1/1 [==============================] - 0s 19ms/step\n",
      "(1, 28, 28, 32)\n"
     ]
    }
   ],
   "source": [
    "inputs = train_input[0:1].reshape(-1, 28, 28, 1) / 255.0\n",
    "feature_maps = conv_acti.predict(inputs)\n",
    "print(feature_maps.shape)"
   ]
  },
  {
   "cell_type": "code",
   "execution_count": 25,
   "metadata": {},
   "outputs": [
    {
     "data": {
      "text/plain": [
       "(1, 28, 28, 32)"
      ]
     },
     "execution_count": 25,
     "metadata": {},
     "output_type": "execute_result"
    }
   ],
   "source": [
    "feature_maps.shape"
   ]
  },
  {
   "cell_type": "code",
   "execution_count": 28,
   "metadata": {},
   "outputs": [
    {
     "data": {
      "image/png": "[encoded data removed]",
      "text/plain": [
       "<Figure size 1080x576 with 32 Axes>"
      ]
     },
     "metadata": {
      "needs_background": "light"
     },
     "output_type": "display_data"
    }
   ],
   "source": [
    "# 이미지로 확인하기, 특성맵\n",
    "\n",
    "fig, axs = plt.subplots(4, 8, figsize=(15,8))\n",
    "for i in range(4):\n",
    "    for j in range(8):\n",
    "        axs[i, j].imshow(feature_maps[0,:,:,i*8+j]) # 4차원 데이터, (1, 28, 28, 32)\n",
    "        axs[i,j].axis('off')\n",
    "\n",
    "plt.show()"
   ]
  },
  {
   "cell_type": "code",
   "execution_count": 36,
   "metadata": {},
   "outputs": [],
   "source": [
    "# Model 불러오기\n",
    "\n",
    "conv2_acti = keras.models.Model(model.input, model.layers[2].output)"
   ]
  },
  {
   "cell_type": "code",
   "execution_count": 37,
   "metadata": {},
   "outputs": [
    {
     "name": "stdout",
     "output_type": "stream",
     "text": [
      "1/1 [==============================] - 0s 55ms/step\n",
      "[[[[0.         0.         0.         ... 0.         0.\n",
      "    0.        ]\n",
      "   [0.         0.         0.         ... 0.         0.\n",
      "    0.        ]\n",
      "   [0.         0.         0.         ... 0.         0.\n",
      "    0.        ]\n",
      "   ...\n",
      "   [0.         0.         0.         ... 0.         0.\n",
      "    0.        ]\n",
      "   [0.         0.         0.         ... 0.         0.\n",
      "    0.        ]\n",
      "   [0.         0.         0.         ... 0.         0.\n",
      "    0.        ]]\n",
      "\n",
      "  [[0.         0.         0.         ... 0.         0.\n",
      "    0.        ]\n",
      "   [0.         0.         0.         ... 0.         0.\n",
      "    0.        ]\n",
      "   [0.         0.         0.         ... 0.         0.\n",
      "    0.        ]\n",
      "   ...\n",
      "   [0.         0.         0.06589966 ... 0.         0.\n",
      "    0.        ]\n",
      "   [0.11269256 0.         0.09062885 ... 0.         0.\n",
      "    0.        ]\n",
      "   [0.         0.         0.05180103 ... 0.         0.\n",
      "    0.        ]]\n",
      "\n",
      "  [[0.         0.         0.         ... 0.         0.\n",
      "    0.        ]\n",
      "   [0.         0.         0.         ... 0.         0.\n",
      "    0.        ]\n",
      "   [0.         0.         0.         ... 0.         0.\n",
      "    0.        ]\n",
      "   ...\n",
      "   [0.         0.         0.         ... 0.         0.\n",
      "    0.        ]\n",
      "   [0.43623143 0.         0.19280572 ... 0.         0.\n",
      "    0.        ]\n",
      "   [0.         0.01360279 0.         ... 0.         0.\n",
      "    0.        ]]\n",
      "\n",
      "  ...\n",
      "\n",
      "  [[0.         0.34151486 0.         ... 0.5822639  0.\n",
      "    0.        ]\n",
      "   [0.         0.35933656 0.         ... 0.17398492 0.\n",
      "    0.        ]\n",
      "   [0.         0.         0.         ... 0.         0.\n",
      "    0.        ]\n",
      "   ...\n",
      "   [0.         0.         0.         ... 0.         0.\n",
      "    0.        ]\n",
      "   [0.         0.         0.         ... 0.         0.\n",
      "    0.        ]\n",
      "   [0.         0.42889383 0.         ... 0.         0.\n",
      "    0.        ]]\n",
      "\n",
      "  [[0.         0.         0.         ... 0.         0.\n",
      "    0.        ]\n",
      "   [0.         0.         0.         ... 0.         0.\n",
      "    0.        ]\n",
      "   [0.         0.         0.         ... 0.         0.\n",
      "    0.        ]\n",
      "   ...\n",
      "   [0.         0.         0.         ... 0.         0.\n",
      "    0.        ]\n",
      "   [0.         0.         0.         ... 0.         0.\n",
      "    0.        ]\n",
      "   [0.         0.11000787 0.         ... 0.         0.\n",
      "    0.        ]]\n",
      "\n",
      "  [[0.         0.         0.07549022 ... 0.         0.\n",
      "    0.        ]\n",
      "   [0.         0.         0.         ... 0.         0.\n",
      "    0.        ]\n",
      "   [0.         0.         0.         ... 0.         0.\n",
      "    0.        ]\n",
      "   ...\n",
      "   [0.         0.         0.19769181 ... 0.         0.\n",
      "    0.        ]\n",
      "   [0.         0.         0.28474414 ... 0.         0.\n",
      "    0.        ]\n",
      "   [0.         0.         0.61801565 ... 0.         0.\n",
      "    0.        ]]]] (1, 14, 14, 64)\n"
     ]
    }
   ],
   "source": [
    "feature_maps = conv2_acti.predict(train_input[0:1].reshape(-1,28,28,1) / 255.0)\n",
    "print(feature_maps, feature_maps.shape)"
   ]
  },
  {
   "cell_type": "code",
   "execution_count": 38,
   "metadata": {},
   "outputs": [
    {
     "data": {
      "image/png": "[encoded data removed]",
      "text/plain": [
       "<Figure size 864x864 with 64 Axes>"
      ]
     },
     "metadata": {
      "needs_background": "light"
     },
     "output_type": "display_data"
    }
   ],
   "source": [
    "# 이미지로 확인하기, 특성맵\n",
    "\n",
    "fig, axs = plt.subplots(8, 8, figsize=(12,12))\n",
    "for i in range(8):\n",
    "    for j in range(8):\n",
    "        axs[i, j].imshow(feature_maps[0,:,:,i*8+j]) # 4차원 데이터, (1, 14, 14, 64)\n",
    "        axs[i,j].axis('off')\n",
    "\n",
    "plt.show()"
   ]
  },
  {
   "cell_type": "markdown",
   "metadata": {},
   "source": [
    "> 전체 이미지중에 색이 있는 부분만 뽑아서 전달"
   ]
  }
 ],
 "metadata": {
  "kernelspec": {
   "display_name": "Python 3.9.7 ('base')",
   "language": "python",
   "name": "python3"
  },
  "language_info": {
   "codemirror_mode": {
    "name": "ipython",
    "version": 3
   },
   "file_extension": ".py",
   "mimetype": "text/x-python",
   "name": "python",
   "nbconvert_exporter": "python",
   "pygments_lexer": "ipython3",
   "version": "3.9.7"
  },
  "orig_nbformat": 4,
  "vscode": {
   "interpreter": {
    "hash": "c34e8390e776d2ee205b71ed5a6130fee3cef8da5e87e926ce18e14f4a070d72"
   }
  }
 },
 "nbformat": 4,
 "nbformat_minor": 2
}
