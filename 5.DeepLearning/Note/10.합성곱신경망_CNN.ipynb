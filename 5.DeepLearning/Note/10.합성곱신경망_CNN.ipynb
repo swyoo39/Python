{
 "cells": [
  {
   "cell_type": "markdown",
   "metadata": {},
   "source": [
    "*'image의 특징을 추출하자' : CNN*"
   ]
  },
  {
   "cell_type": "markdown",
   "metadata": {},
   "source": [
    "### CNN(Convolution Neural Network)에서 본 심층신경망(다층 퍼셉트론)의 단점\n",
    "- 입력값으로 고유 이미지 생김새 정보를 알 수 없다. 2차원 배열을 1차원으로 변경하여 작업이 시작된다.(이미지 중심적이지 않다.)\n",
    "- 심층신경망은 픽셀 각각의 변화에 상당히 민감하다.(밤과 낮의 조도 차이도 다르게 인식함)\n",
    "- 픽셀 한두개의 정보에도 민감하게 반응하기 위해 상당히 많은 변수를 모델 안에 가지고있다.(낭비)\n",
    "- 이로 인해 학습시간이 길어지고 자칫하면 과대적합이 발생한다."
   ]
  },
  {
   "cell_type": "markdown",
   "metadata": {},
   "source": [
    "### 합성곱 신경망(CNN : Convolution Neural Network)의 구성요소\n",
    "- 밀집층\n",
    "\n",
    "- 1차원 합성곱\n",
    "> 합성곱 신경망은 노드의 가중치 개수가 전체 개수가 아니라 설정하여 사용함(hyper parameter, 3개 혹은 5개의 가중치)   \n",
    "> 입력층을 아래로 한 칸 이동하여 '위에서 계산한 가중치'와 절편을 사용한다.   \n",
    "> 밀집층보다 가중치의 개수가 훨씬 작다.   \n",
    "> 10개의 입력이 있으면 출력은 9개만 만들어진다.   \n",
    "> 3개씩 있는 것을 필터라고 하며, 필터의 커널은 3이다.   \n",
    "\n",
    "- 2차원 합성곱 : edge detection\n",
    "> "
   ]
  }
 ],
 "metadata": {
  "kernelspec": {
   "display_name": "Python 3.9.7 ('base')",
   "language": "python",
   "name": "python3"
  },
  "language_info": {
   "name": "python",
   "version": "3.9.7"
  },
  "orig_nbformat": 4,
  "vscode": {
   "interpreter": {
    "hash": "c34e8390e776d2ee205b71ed5a6130fee3cef8da5e87e926ce18e14f4a070d72"
   }
  }
 },
 "nbformat": 4,
 "nbformat_minor": 2
}
