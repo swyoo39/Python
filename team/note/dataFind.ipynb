{
 "cells": [
  {
   "cell_type": "code",
   "execution_count": 137,
   "metadata": {},
   "outputs": [],
   "source": [
    "import pandas as pd"
   ]
  },
  {
   "cell_type": "code",
   "execution_count": 138,
   "metadata": {},
   "outputs": [],
   "source": [
    "phone = pd.read_csv('../data/20191226-items.csv')"
   ]
  },
  {
   "cell_type": "code",
   "execution_count": 139,
   "metadata": {},
   "outputs": [
    {
     "data": {
      "text/plain": [
       "asin             0\n",
       "brand            4\n",
       "title            0\n",
       "url              0\n",
       "image            0\n",
       "rating           0\n",
       "reviewUrl        0\n",
       "totalReviews     0\n",
       "price            0\n",
       "originalPrice    0\n",
       "dtype: int64"
      ]
     },
     "execution_count": 139,
     "metadata": {},
     "output_type": "execute_result"
    }
   ],
   "source": [
    "phone.isna().sum()"
   ]
  },
  {
   "cell_type": "code",
   "execution_count": 140,
   "metadata": {},
   "outputs": [
    {
     "data": {
      "text/plain": [
       "array([nan, 'Motorola', 'Nokia', 'Samsung', 'HUAWEI', 'Sony', 'Apple',\n",
       "       'Google', 'ASUS', 'OnePlus', 'Xiaomi'], dtype=object)"
      ]
     },
     "execution_count": 140,
     "metadata": {},
     "output_type": "execute_result"
    }
   ],
   "source": [
    "phone.brand.unique()"
   ]
  },
  {
   "cell_type": "code",
   "execution_count": 141,
   "metadata": {},
   "outputs": [
    {
     "data": {
      "text/html": [
       "<div>\n",
       "<style scoped>\n",
       "    .dataframe tbody tr th:only-of-type {\n",
       "        vertical-align: middle;\n",
       "    }\n",
       "\n",
       "    .dataframe tbody tr th {\n",
       "        vertical-align: top;\n",
       "    }\n",
       "\n",
       "    .dataframe thead th {\n",
       "        text-align: right;\n",
       "    }\n",
       "</style>\n",
       "<table border=\"1\" class=\"dataframe\">\n",
       "  <thead>\n",
       "    <tr style=\"text-align: right;\">\n",
       "      <th></th>\n",
       "      <th>asin</th>\n",
       "      <th>brand</th>\n",
       "      <th>title</th>\n",
       "      <th>url</th>\n",
       "      <th>image</th>\n",
       "      <th>rating</th>\n",
       "      <th>reviewUrl</th>\n",
       "      <th>totalReviews</th>\n",
       "      <th>price</th>\n",
       "      <th>originalPrice</th>\n",
       "    </tr>\n",
       "  </thead>\n",
       "  <tbody>\n",
       "    <tr>\n",
       "      <th>0</th>\n",
       "      <td>B0000SX2UC</td>\n",
       "      <td>NaN</td>\n",
       "      <td>Dual-Band / Tri-Mode Sprint PCS Phone w/ Voice...</td>\n",
       "      <td>https://www.amazon.com/Dual-Band-Tri-Mode-Acti...</td>\n",
       "      <td>https://m.media-amazon.com/images/I/2143EBQ210...</td>\n",
       "      <td>3.0</td>\n",
       "      <td>https://www.amazon.com/product-reviews/B0000SX2UC</td>\n",
       "      <td>14</td>\n",
       "      <td>0.00</td>\n",
       "      <td>0.0</td>\n",
       "    </tr>\n",
       "    <tr>\n",
       "      <th>144</th>\n",
       "      <td>B01EWKHIAI</td>\n",
       "      <td>NaN</td>\n",
       "      <td>Microsoft Lumia 950 32GB Dual Sim NAM RM-1118 ...</td>\n",
       "      <td>https://www.amazon.com/Microsoft-Lumia-RM-1118...</td>\n",
       "      <td>https://m.media-amazon.com/images/I/41y0iPJH27...</td>\n",
       "      <td>3.9</td>\n",
       "      <td>https://www.amazon.com/product-reviews/B01EWKHIAI</td>\n",
       "      <td>67</td>\n",
       "      <td>242.99</td>\n",
       "      <td>0.0</td>\n",
       "    </tr>\n",
       "    <tr>\n",
       "      <th>471</th>\n",
       "      <td>B07JHXX5YR</td>\n",
       "      <td>NaN</td>\n",
       "      <td>ROG Phone Gaming Smartphone ZS600KL-S845-8G512...</td>\n",
       "      <td>https://www.amazon.com/ROG-Phone-Gaming-Smartp...</td>\n",
       "      <td>https://m.media-amazon.com/images/I/81qwFH3PTC...</td>\n",
       "      <td>3.9</td>\n",
       "      <td>https://www.amazon.com/product-reviews/B07JHXX5YR</td>\n",
       "      <td>126</td>\n",
       "      <td>549.00</td>\n",
       "      <td>599.0</td>\n",
       "    </tr>\n",
       "    <tr>\n",
       "      <th>631</th>\n",
       "      <td>B07T3KMJW8</td>\n",
       "      <td>NaN</td>\n",
       "      <td>Redmi 7A 2+16Gb Black EU</td>\n",
       "      <td>https://www.amazon.com/Redmi-7A-16Gb-Black-EU/...</td>\n",
       "      <td>https://m.media-amazon.com/images/I/51s+1NLTqx...</td>\n",
       "      <td>3.8</td>\n",
       "      <td>https://www.amazon.com/product-reviews/B07T3KMJW8</td>\n",
       "      <td>5</td>\n",
       "      <td>99.99</td>\n",
       "      <td>0.0</td>\n",
       "    </tr>\n",
       "  </tbody>\n",
       "</table>\n",
       "</div>"
      ],
      "text/plain": [
       "           asin brand                                              title  \\\n",
       "0    B0000SX2UC   NaN  Dual-Band / Tri-Mode Sprint PCS Phone w/ Voice...   \n",
       "144  B01EWKHIAI   NaN  Microsoft Lumia 950 32GB Dual Sim NAM RM-1118 ...   \n",
       "471  B07JHXX5YR   NaN  ROG Phone Gaming Smartphone ZS600KL-S845-8G512...   \n",
       "631  B07T3KMJW8   NaN                           Redmi 7A 2+16Gb Black EU   \n",
       "\n",
       "                                                   url  \\\n",
       "0    https://www.amazon.com/Dual-Band-Tri-Mode-Acti...   \n",
       "144  https://www.amazon.com/Microsoft-Lumia-RM-1118...   \n",
       "471  https://www.amazon.com/ROG-Phone-Gaming-Smartp...   \n",
       "631  https://www.amazon.com/Redmi-7A-16Gb-Black-EU/...   \n",
       "\n",
       "                                                 image  rating  \\\n",
       "0    https://m.media-amazon.com/images/I/2143EBQ210...     3.0   \n",
       "144  https://m.media-amazon.com/images/I/41y0iPJH27...     3.9   \n",
       "471  https://m.media-amazon.com/images/I/81qwFH3PTC...     3.9   \n",
       "631  https://m.media-amazon.com/images/I/51s+1NLTqx...     3.8   \n",
       "\n",
       "                                             reviewUrl  totalReviews   price  \\\n",
       "0    https://www.amazon.com/product-reviews/B0000SX2UC            14    0.00   \n",
       "144  https://www.amazon.com/product-reviews/B01EWKHIAI            67  242.99   \n",
       "471  https://www.amazon.com/product-reviews/B07JHXX5YR           126  549.00   \n",
       "631  https://www.amazon.com/product-reviews/B07T3KMJW8             5   99.99   \n",
       "\n",
       "     originalPrice  \n",
       "0              0.0  \n",
       "144            0.0  \n",
       "471          599.0  \n",
       "631            0.0  "
      ]
     },
     "execution_count": 141,
     "metadata": {},
     "output_type": "execute_result"
    }
   ],
   "source": [
    "phone[phone.brand.isna()]"
   ]
  },
  {
   "cell_type": "code",
   "execution_count": 142,
   "metadata": {},
   "outputs": [
    {
     "name": "stderr",
     "output_type": "stream",
     "text": [
      "/var/folders/r9/905wglgd76v1f_n1q9jw68rr0000gn/T/ipykernel_1313/260102531.py:2: SettingWithCopyWarning: \n",
      "A value is trying to be set on a copy of a slice from a DataFrame\n",
      "\n",
      "See the caveats in the documentation: https://pandas.pydata.org/pandas-docs/stable/user_guide/indexing.html#returning-a-view-versus-a-copy\n",
      "  phone.brand[0] = 'Microsoft'\n"
     ]
    }
   ],
   "source": [
    "# phone[phone.brand.isna()].iloc[1,1] = 'Microsoft'\n",
    "phone.brand[0] = 'Microsoft'"
   ]
  },
  {
   "cell_type": "code",
   "execution_count": 143,
   "metadata": {},
   "outputs": [
    {
     "name": "stderr",
     "output_type": "stream",
     "text": [
      "/var/folders/r9/905wglgd76v1f_n1q9jw68rr0000gn/T/ipykernel_1313/737275908.py:2: SettingWithCopyWarning: \n",
      "A value is trying to be set on a copy of a slice from a DataFrame\n",
      "\n",
      "See the caveats in the documentation: https://pandas.pydata.org/pandas-docs/stable/user_guide/indexing.html#returning-a-view-versus-a-copy\n",
      "  phone.brand[144] = 'Nokia'\n"
     ]
    }
   ],
   "source": [
    "# phone[phone.brand.isna()].iloc[0,1] = 'Nokia'\n",
    "phone.brand[144] = 'Nokia'"
   ]
  },
  {
   "cell_type": "code",
   "execution_count": 144,
   "metadata": {},
   "outputs": [
    {
     "name": "stderr",
     "output_type": "stream",
     "text": [
      "/var/folders/r9/905wglgd76v1f_n1q9jw68rr0000gn/T/ipykernel_1313/3165579077.py:2: SettingWithCopyWarning: \n",
      "A value is trying to be set on a copy of a slice from a DataFrame\n",
      "\n",
      "See the caveats in the documentation: https://pandas.pydata.org/pandas-docs/stable/user_guide/indexing.html#returning-a-view-versus-a-copy\n",
      "  phone.brand[471] = 'ASUS'\n"
     ]
    }
   ],
   "source": [
    "# phone[phone.brand.isna()].iloc[2,1] = 'ASUS'\n",
    "phone.brand[471] = 'ASUS'"
   ]
  },
  {
   "cell_type": "code",
   "execution_count": 145,
   "metadata": {},
   "outputs": [
    {
     "name": "stderr",
     "output_type": "stream",
     "text": [
      "/var/folders/r9/905wglgd76v1f_n1q9jw68rr0000gn/T/ipykernel_1313/67334769.py:2: SettingWithCopyWarning: \n",
      "A value is trying to be set on a copy of a slice from a DataFrame\n",
      "\n",
      "See the caveats in the documentation: https://pandas.pydata.org/pandas-docs/stable/user_guide/indexing.html#returning-a-view-versus-a-copy\n",
      "  phone.brand[631] = 'Xiaomi'\n"
     ]
    }
   ],
   "source": [
    "# phone[phone.brand.isna()].iloc[3,1] = 'Xiaomi'\n",
    "phone.brand[631] = 'Xiaomi'"
   ]
  },
  {
   "cell_type": "code",
   "execution_count": 146,
   "metadata": {},
   "outputs": [
    {
     "data": {
      "text/plain": [
       "0"
      ]
     },
     "execution_count": 146,
     "metadata": {},
     "output_type": "execute_result"
    }
   ],
   "source": [
    "phone.brand.isna().sum()"
   ]
  },
  {
   "cell_type": "code",
   "execution_count": 147,
   "metadata": {},
   "outputs": [
    {
     "data": {
      "text/html": [
       "<div>\n",
       "<style scoped>\n",
       "    .dataframe tbody tr th:only-of-type {\n",
       "        vertical-align: middle;\n",
       "    }\n",
       "\n",
       "    .dataframe tbody tr th {\n",
       "        vertical-align: top;\n",
       "    }\n",
       "\n",
       "    .dataframe thead th {\n",
       "        text-align: right;\n",
       "    }\n",
       "</style>\n",
       "<table border=\"1\" class=\"dataframe\">\n",
       "  <thead>\n",
       "    <tr style=\"text-align: right;\">\n",
       "      <th></th>\n",
       "      <th>rating</th>\n",
       "      <th>totalReviews</th>\n",
       "      <th>price</th>\n",
       "      <th>originalPrice</th>\n",
       "    </tr>\n",
       "  </thead>\n",
       "  <tbody>\n",
       "    <tr>\n",
       "      <th>count</th>\n",
       "      <td>720.000000</td>\n",
       "      <td>720.000000</td>\n",
       "      <td>720.000000</td>\n",
       "      <td>720.000000</td>\n",
       "    </tr>\n",
       "    <tr>\n",
       "      <th>mean</th>\n",
       "      <td>3.713750</td>\n",
       "      <td>105.679167</td>\n",
       "      <td>234.948931</td>\n",
       "      <td>63.690778</td>\n",
       "    </tr>\n",
       "    <tr>\n",
       "      <th>std</th>\n",
       "      <td>0.716014</td>\n",
       "      <td>167.601101</td>\n",
       "      <td>200.008441</td>\n",
       "      <td>172.405370</td>\n",
       "    </tr>\n",
       "    <tr>\n",
       "      <th>min</th>\n",
       "      <td>1.000000</td>\n",
       "      <td>1.000000</td>\n",
       "      <td>0.000000</td>\n",
       "      <td>0.000000</td>\n",
       "    </tr>\n",
       "    <tr>\n",
       "      <th>25%</th>\n",
       "      <td>3.300000</td>\n",
       "      <td>7.000000</td>\n",
       "      <td>97.512500</td>\n",
       "      <td>0.000000</td>\n",
       "    </tr>\n",
       "    <tr>\n",
       "      <th>50%</th>\n",
       "      <td>3.800000</td>\n",
       "      <td>32.000000</td>\n",
       "      <td>188.975000</td>\n",
       "      <td>0.000000</td>\n",
       "    </tr>\n",
       "    <tr>\n",
       "      <th>75%</th>\n",
       "      <td>4.100000</td>\n",
       "      <td>122.250000</td>\n",
       "      <td>336.725000</td>\n",
       "      <td>0.000000</td>\n",
       "    </tr>\n",
       "    <tr>\n",
       "      <th>max</th>\n",
       "      <td>5.000000</td>\n",
       "      <td>983.000000</td>\n",
       "      <td>999.990000</td>\n",
       "      <td>999.990000</td>\n",
       "    </tr>\n",
       "  </tbody>\n",
       "</table>\n",
       "</div>"
      ],
      "text/plain": [
       "           rating  totalReviews       price  originalPrice\n",
       "count  720.000000    720.000000  720.000000     720.000000\n",
       "mean     3.713750    105.679167  234.948931      63.690778\n",
       "std      0.716014    167.601101  200.008441     172.405370\n",
       "min      1.000000      1.000000    0.000000       0.000000\n",
       "25%      3.300000      7.000000   97.512500       0.000000\n",
       "50%      3.800000     32.000000  188.975000       0.000000\n",
       "75%      4.100000    122.250000  336.725000       0.000000\n",
       "max      5.000000    983.000000  999.990000     999.990000"
      ]
     },
     "execution_count": 147,
     "metadata": {},
     "output_type": "execute_result"
    }
   ],
   "source": [
    "phone.describe()"
   ]
  },
  {
   "cell_type": "code",
   "execution_count": 148,
   "metadata": {},
   "outputs": [
    {
     "name": "stdout",
     "output_type": "stream",
     "text": [
      "<class 'pandas.core.frame.DataFrame'>\n",
      "RangeIndex: 720 entries, 0 to 719\n",
      "Data columns (total 10 columns):\n",
      " #   Column         Non-Null Count  Dtype  \n",
      "---  ------         --------------  -----  \n",
      " 0   asin           720 non-null    object \n",
      " 1   brand          720 non-null    object \n",
      " 2   title          720 non-null    object \n",
      " 3   url            720 non-null    object \n",
      " 4   image          720 non-null    object \n",
      " 5   rating         720 non-null    float64\n",
      " 6   reviewUrl      720 non-null    object \n",
      " 7   totalReviews   720 non-null    int64  \n",
      " 8   price          720 non-null    float64\n",
      " 9   originalPrice  720 non-null    float64\n",
      "dtypes: float64(3), int64(1), object(6)\n",
      "memory usage: 56.4+ KB\n"
     ]
    }
   ],
   "source": [
    "phone.info()"
   ]
  },
  {
   "cell_type": "markdown",
   "metadata": {},
   "source": [
    "> amazon 크롤링 가능   \n",
    "> review가 영어로 되어있고, 이를통해 rnn할 수 있을듯    \n",
    "> 삼성폰 기준으로 해서 삼성센터들을 지도에 띄우는 것도 가능할듯   \n",
    "> 한글 감성분석..."
   ]
  },
  {
   "cell_type": "code",
   "execution_count": 164,
   "metadata": {},
   "outputs": [
    {
     "data": {
      "text/html": [
       "<div>\n",
       "<style scoped>\n",
       "    .dataframe tbody tr th:only-of-type {\n",
       "        vertical-align: middle;\n",
       "    }\n",
       "\n",
       "    .dataframe tbody tr th {\n",
       "        vertical-align: top;\n",
       "    }\n",
       "\n",
       "    .dataframe thead th {\n",
       "        text-align: right;\n",
       "    }\n",
       "</style>\n",
       "<table border=\"1\" class=\"dataframe\">\n",
       "  <thead>\n",
       "    <tr style=\"text-align: right;\">\n",
       "      <th></th>\n",
       "      <th>Unnamed: 0</th>\n",
       "      <th>Address</th>\n",
       "      <th>Description</th>\n",
       "      <th>FeatureCount</th>\n",
       "      <th>Fee</th>\n",
       "      <th>Langtitude</th>\n",
       "      <th>Latitude</th>\n",
       "      <th>LengthOfVisit</th>\n",
       "      <th>MuseumName</th>\n",
       "      <th>PhoneNum</th>\n",
       "      <th>Rank</th>\n",
       "      <th>Rating</th>\n",
       "      <th>ReviewCount</th>\n",
       "      <th>TotalThingsToDo</th>\n",
       "    </tr>\n",
       "  </thead>\n",
       "  <tbody>\n",
       "    <tr>\n",
       "      <th>0</th>\n",
       "      <td>0</td>\n",
       "      <td>555 Pennsylvania Ave NW, Washington DC, DC 200...</td>\n",
       "      <td>Find out for yourself why everyone is calling ...</td>\n",
       "      <td>3</td>\n",
       "      <td>Yes</td>\n",
       "      <td>-77.019235</td>\n",
       "      <td>38.893138</td>\n",
       "      <td>2-3 hours</td>\n",
       "      <td>Newseum</td>\n",
       "      <td>+1 888-639-7386</td>\n",
       "      <td>8</td>\n",
       "      <td>4.5</td>\n",
       "      <td>6,309</td>\n",
       "      <td>398</td>\n",
       "    </tr>\n",
       "    <tr>\n",
       "      <th>1</th>\n",
       "      <td>1</td>\n",
       "      <td>Great Russell Street, London WC1B 3DG, England</td>\n",
       "      <td>A museum of the world, for the world. Discover...</td>\n",
       "      <td>6</td>\n",
       "      <td>No</td>\n",
       "      <td>-0.126853</td>\n",
       "      <td>51.517981</td>\n",
       "      <td>2-3 hours</td>\n",
       "      <td>British Museum</td>\n",
       "      <td>+44 (0)20 7323 8299</td>\n",
       "      <td>1</td>\n",
       "      <td>4.5</td>\n",
       "      <td>41,295</td>\n",
       "      <td>1,443</td>\n",
       "    </tr>\n",
       "    <tr>\n",
       "      <th>2</th>\n",
       "      <td>2</td>\n",
       "      <td>Museumstraat 1, 1071 XX Amsterdam, The Netherl...</td>\n",
       "      <td>The Rijksmuseum is the museum of the Netherlan...</td>\n",
       "      <td>12</td>\n",
       "      <td>Yes</td>\n",
       "      <td>4.885185</td>\n",
       "      <td>52.360007</td>\n",
       "      <td>More than 3 hours</td>\n",
       "      <td>Rijksmuseum</td>\n",
       "      <td>+31 20 674 7000</td>\n",
       "      <td>1</td>\n",
       "      <td>4.5</td>\n",
       "      <td>25,042</td>\n",
       "      <td>451</td>\n",
       "    </tr>\n",
       "    <tr>\n",
       "      <th>3</th>\n",
       "      <td>3</td>\n",
       "      <td>1000 5th Ave, New York City, NY 10028-0198</td>\n",
       "      <td>At New York City's most visited museum and att...</td>\n",
       "      <td>12</td>\n",
       "      <td>Yes</td>\n",
       "      <td>-73.962928</td>\n",
       "      <td>40.779165</td>\n",
       "      <td>2-3 hours</td>\n",
       "      <td>The Metropolitan Museum of Art</td>\n",
       "      <td>1 212-535-7710</td>\n",
       "      <td>2</td>\n",
       "      <td>5.0</td>\n",
       "      <td>36,628</td>\n",
       "      <td>1,028</td>\n",
       "    </tr>\n",
       "    <tr>\n",
       "      <th>4</th>\n",
       "      <td>4</td>\n",
       "      <td>1, Rue de la Legion d'Honneur, 75007 Paris, Fr...</td>\n",
       "      <td>This beautiful museum, once a railroad station...</td>\n",
       "      <td>11</td>\n",
       "      <td>Yes</td>\n",
       "      <td>2.325928</td>\n",
       "      <td>48.860198</td>\n",
       "      <td>More than 3 hours</td>\n",
       "      <td>Musee d'Orsay</td>\n",
       "      <td>+33 1 40 49 48 14</td>\n",
       "      <td>1</td>\n",
       "      <td>4.5</td>\n",
       "      <td>43,037</td>\n",
       "      <td>1,004</td>\n",
       "    </tr>\n",
       "  </tbody>\n",
       "</table>\n",
       "</div>"
      ],
      "text/plain": [
       "   Unnamed: 0                                            Address  \\\n",
       "0           0  555 Pennsylvania Ave NW, Washington DC, DC 200...   \n",
       "1           1     Great Russell Street, London WC1B 3DG, England   \n",
       "2           2  Museumstraat 1, 1071 XX Amsterdam, The Netherl...   \n",
       "3           3         1000 5th Ave, New York City, NY 10028-0198   \n",
       "4           4  1, Rue de la Legion d'Honneur, 75007 Paris, Fr...   \n",
       "\n",
       "                                         Description  FeatureCount   Fee  \\\n",
       "0  Find out for yourself why everyone is calling ...             3  Yes    \n",
       "1  A museum of the world, for the world. Discover...             6   No    \n",
       "2  The Rijksmuseum is the museum of the Netherlan...            12  Yes    \n",
       "3  At New York City's most visited museum and att...            12  Yes    \n",
       "4  This beautiful museum, once a railroad station...            11  Yes    \n",
       "\n",
       "   Langtitude   Latitude       LengthOfVisit                      MuseumName  \\\n",
       "0  -77.019235  38.893138          2-3 hours                          Newseum   \n",
       "1   -0.126853  51.517981          2-3 hours                   British Museum   \n",
       "2    4.885185  52.360007  More than 3 hours                      Rijksmuseum   \n",
       "3  -73.962928  40.779165          2-3 hours   The Metropolitan Museum of Art   \n",
       "4    2.325928  48.860198  More than 3 hours                    Musee d'Orsay   \n",
       "\n",
       "              PhoneNum  Rank  Rating ReviewCount TotalThingsToDo  \n",
       "0      +1 888-639-7386     8     4.5       6,309             398  \n",
       "1  +44 (0)20 7323 8299     1     4.5      41,295           1,443  \n",
       "2      +31 20 674 7000     1     4.5      25,042             451  \n",
       "3       1 212-535-7710     2     5.0      36,628           1,028  \n",
       "4    +33 1 40 49 48 14     1     4.5      43,037           1,004  "
      ]
     },
     "execution_count": 164,
     "metadata": {},
     "output_type": "execute_result"
    }
   ],
   "source": [
    "museum = pd.read_csv('../data/tripadvisor_museum_world.csv')\n",
    "museum.head()"
   ]
  },
  {
   "cell_type": "code",
   "execution_count": 173,
   "metadata": {},
   "outputs": [],
   "source": [
    "museum.drop('Unnamed: 0', axis=1, inplace=True)"
   ]
  },
  {
   "cell_type": "code",
   "execution_count": 174,
   "metadata": {},
   "outputs": [
    {
     "data": {
      "text/html": [
       "<div>\n",
       "<style scoped>\n",
       "    .dataframe tbody tr th:only-of-type {\n",
       "        vertical-align: middle;\n",
       "    }\n",
       "\n",
       "    .dataframe tbody tr th {\n",
       "        vertical-align: top;\n",
       "    }\n",
       "\n",
       "    .dataframe thead th {\n",
       "        text-align: right;\n",
       "    }\n",
       "</style>\n",
       "<table border=\"1\" class=\"dataframe\">\n",
       "  <thead>\n",
       "    <tr style=\"text-align: right;\">\n",
       "      <th></th>\n",
       "      <th>Address</th>\n",
       "      <th>Description</th>\n",
       "      <th>FeatureCount</th>\n",
       "      <th>Fee</th>\n",
       "      <th>Langtitude</th>\n",
       "      <th>Latitude</th>\n",
       "      <th>LengthOfVisit</th>\n",
       "      <th>MuseumName</th>\n",
       "      <th>PhoneNum</th>\n",
       "      <th>Rank</th>\n",
       "      <th>Rating</th>\n",
       "      <th>ReviewCount</th>\n",
       "      <th>TotalThingsToDo</th>\n",
       "    </tr>\n",
       "  </thead>\n",
       "  <tbody>\n",
       "    <tr>\n",
       "      <th>0</th>\n",
       "      <td>555 Pennsylvania Ave NW, Washington DC, DC 200...</td>\n",
       "      <td>Find out for yourself why everyone is calling ...</td>\n",
       "      <td>3</td>\n",
       "      <td>Yes</td>\n",
       "      <td>-77.019235</td>\n",
       "      <td>38.893138</td>\n",
       "      <td>2-3 hours</td>\n",
       "      <td>Newseum</td>\n",
       "      <td>+1 888-639-7386</td>\n",
       "      <td>8</td>\n",
       "      <td>4.5</td>\n",
       "      <td>6,309</td>\n",
       "      <td>398</td>\n",
       "    </tr>\n",
       "    <tr>\n",
       "      <th>1</th>\n",
       "      <td>Great Russell Street, London WC1B 3DG, England</td>\n",
       "      <td>A museum of the world, for the world. Discover...</td>\n",
       "      <td>6</td>\n",
       "      <td>No</td>\n",
       "      <td>-0.126853</td>\n",
       "      <td>51.517981</td>\n",
       "      <td>2-3 hours</td>\n",
       "      <td>British Museum</td>\n",
       "      <td>+44 (0)20 7323 8299</td>\n",
       "      <td>1</td>\n",
       "      <td>4.5</td>\n",
       "      <td>41,295</td>\n",
       "      <td>1,443</td>\n",
       "    </tr>\n",
       "    <tr>\n",
       "      <th>2</th>\n",
       "      <td>Museumstraat 1, 1071 XX Amsterdam, The Netherl...</td>\n",
       "      <td>The Rijksmuseum is the museum of the Netherlan...</td>\n",
       "      <td>12</td>\n",
       "      <td>Yes</td>\n",
       "      <td>4.885185</td>\n",
       "      <td>52.360007</td>\n",
       "      <td>More than 3 hours</td>\n",
       "      <td>Rijksmuseum</td>\n",
       "      <td>+31 20 674 7000</td>\n",
       "      <td>1</td>\n",
       "      <td>4.5</td>\n",
       "      <td>25,042</td>\n",
       "      <td>451</td>\n",
       "    </tr>\n",
       "    <tr>\n",
       "      <th>3</th>\n",
       "      <td>1000 5th Ave, New York City, NY 10028-0198</td>\n",
       "      <td>At New York City's most visited museum and att...</td>\n",
       "      <td>12</td>\n",
       "      <td>Yes</td>\n",
       "      <td>-73.962928</td>\n",
       "      <td>40.779165</td>\n",
       "      <td>2-3 hours</td>\n",
       "      <td>The Metropolitan Museum of Art</td>\n",
       "      <td>1 212-535-7710</td>\n",
       "      <td>2</td>\n",
       "      <td>5.0</td>\n",
       "      <td>36,628</td>\n",
       "      <td>1,028</td>\n",
       "    </tr>\n",
       "    <tr>\n",
       "      <th>4</th>\n",
       "      <td>1, Rue de la Legion d'Honneur, 75007 Paris, Fr...</td>\n",
       "      <td>This beautiful museum, once a railroad station...</td>\n",
       "      <td>11</td>\n",
       "      <td>Yes</td>\n",
       "      <td>2.325928</td>\n",
       "      <td>48.860198</td>\n",
       "      <td>More than 3 hours</td>\n",
       "      <td>Musee d'Orsay</td>\n",
       "      <td>+33 1 40 49 48 14</td>\n",
       "      <td>1</td>\n",
       "      <td>4.5</td>\n",
       "      <td>43,037</td>\n",
       "      <td>1,004</td>\n",
       "    </tr>\n",
       "  </tbody>\n",
       "</table>\n",
       "</div>"
      ],
      "text/plain": [
       "                                             Address  \\\n",
       "0  555 Pennsylvania Ave NW, Washington DC, DC 200...   \n",
       "1     Great Russell Street, London WC1B 3DG, England   \n",
       "2  Museumstraat 1, 1071 XX Amsterdam, The Netherl...   \n",
       "3         1000 5th Ave, New York City, NY 10028-0198   \n",
       "4  1, Rue de la Legion d'Honneur, 75007 Paris, Fr...   \n",
       "\n",
       "                                         Description  FeatureCount   Fee  \\\n",
       "0  Find out for yourself why everyone is calling ...             3  Yes    \n",
       "1  A museum of the world, for the world. Discover...             6   No    \n",
       "2  The Rijksmuseum is the museum of the Netherlan...            12  Yes    \n",
       "3  At New York City's most visited museum and att...            12  Yes    \n",
       "4  This beautiful museum, once a railroad station...            11  Yes    \n",
       "\n",
       "   Langtitude   Latitude       LengthOfVisit                      MuseumName  \\\n",
       "0  -77.019235  38.893138          2-3 hours                          Newseum   \n",
       "1   -0.126853  51.517981          2-3 hours                   British Museum   \n",
       "2    4.885185  52.360007  More than 3 hours                      Rijksmuseum   \n",
       "3  -73.962928  40.779165          2-3 hours   The Metropolitan Museum of Art   \n",
       "4    2.325928  48.860198  More than 3 hours                    Musee d'Orsay   \n",
       "\n",
       "              PhoneNum  Rank  Rating ReviewCount TotalThingsToDo  \n",
       "0      +1 888-639-7386     8     4.5       6,309             398  \n",
       "1  +44 (0)20 7323 8299     1     4.5      41,295           1,443  \n",
       "2      +31 20 674 7000     1     4.5      25,042             451  \n",
       "3       1 212-535-7710     2     5.0      36,628           1,028  \n",
       "4    +33 1 40 49 48 14     1     4.5      43,037           1,004  "
      ]
     },
     "execution_count": 174,
     "metadata": {},
     "output_type": "execute_result"
    }
   ],
   "source": [
    "museum.head()"
   ]
  },
  {
   "cell_type": "code",
   "execution_count": 175,
   "metadata": {},
   "outputs": [
    {
     "name": "stdout",
     "output_type": "stream",
     "text": [
      "<class 'pandas.core.frame.DataFrame'>\n",
      "RangeIndex: 1012 entries, 0 to 1011\n",
      "Data columns (total 13 columns):\n",
      " #   Column           Non-Null Count  Dtype  \n",
      "---  ------           --------------  -----  \n",
      " 0   Address          1012 non-null   object \n",
      " 1   Description      792 non-null    object \n",
      " 2   FeatureCount     1012 non-null   int64  \n",
      " 3   Fee              294 non-null    object \n",
      " 4   Langtitude       972 non-null    float64\n",
      " 5   Latitude         972 non-null    float64\n",
      " 6   LengthOfVisit    502 non-null    object \n",
      " 7   MuseumName       1012 non-null   object \n",
      " 8   PhoneNum         1005 non-null   object \n",
      " 9   Rank             1012 non-null   int64  \n",
      " 10  Rating           1012 non-null   float64\n",
      " 11  ReviewCount      1012 non-null   object \n",
      " 12  TotalThingsToDo  1012 non-null   object \n",
      "dtypes: float64(3), int64(2), object(8)\n",
      "memory usage: 102.9+ KB\n"
     ]
    }
   ],
   "source": [
    "museum.info()"
   ]
  },
  {
   "cell_type": "code",
   "execution_count": 177,
   "metadata": {},
   "outputs": [
    {
     "data": {
      "text/plain": [
       "1      213\n",
       "2       97\n",
       "3       78\n",
       "5       50\n",
       "4       45\n",
       "      ... \n",
       "143      1\n",
       "100      1\n",
       "94       1\n",
       "54       1\n",
       "105      1\n",
       "Name: Rank, Length: 97, dtype: int64"
      ]
     },
     "execution_count": 177,
     "metadata": {},
     "output_type": "execute_result"
    }
   ],
   "source": [
    "museum.Rank.value_counts()"
   ]
  }
 ],
 "metadata": {
  "kernelspec": {
   "display_name": "Python 3.9.7 ('base')",
   "language": "python",
   "name": "python3"
  },
  "language_info": {
   "codemirror_mode": {
    "name": "ipython",
    "version": 3
   },
   "file_extension": ".py",
   "mimetype": "text/x-python",
   "name": "python",
   "nbconvert_exporter": "python",
   "pygments_lexer": "ipython3",
   "version": "3.9.7"
  },
  "orig_nbformat": 4,
  "vscode": {
   "interpreter": {
    "hash": "c34e8390e776d2ee205b71ed5a6130fee3cef8da5e87e926ce18e14f4a070d72"
   }
  }
 },
 "nbformat": 4,
 "nbformat_minor": 2
}
