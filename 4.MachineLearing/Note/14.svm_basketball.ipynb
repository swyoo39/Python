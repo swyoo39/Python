{
 "cells": [
  {
   "cell_type": "markdown",
   "metadata": {},
   "source": [
    "# SVM(Support Vector Machine)\n",
    ": 경계선과 support vector의 거리 'margin'이 최대가 되는 경우가 최선   \n",
    ": 비용(cost) == 오차\n",
    "- 선형 SVM : 커널을 사용하지 않고 데이터를 분류, 비용을 조절해서 마진의 크기를 조정한다.   \n",
    "- 커널 트릭 : 선형분리가 주어진 차원에서 불가능할 경우, 고차원으로 데이터를 옮기는 방법. 비용과 gamma(RBF 커널)을 조절해서 마진의 크기를 조정\n",
    "- 함수의 표준편차를 조정함으로써 결정 경계의 곡률을 조정하며, 이 표준편차의 조정변수를 gamma라고 한다."
   ]
  },
  {
   "cell_type": "markdown",
   "metadata": {},
   "source": [
    "### 파라미터 튜닝\n",
    ": 정확도를 높이기 위해 비용과 감마의 수치를 조정함으로써 정확도를 높일 수 있음.\n",
    "- 비용 : 마진의 너비 조절 변수, 클수록 마진의 너비가 좁아지고 작을수록 마진의 너비가 넓어진다.\n",
    "- 감마 : 커널의 표준편차 조절변수, 작을수록 데이터포인트의 영향이 커져서 경계가 완만해지고    \n",
    "클수록 데이터포인트가 결정경계에 영향을 미쳐서 경계가 구부러진다."
   ]
  },
  {
   "cell_type": "code",
   "execution_count": 2,
   "metadata": {},
   "outputs": [],
   "source": [
    "import pandas as pd"
   ]
  },
  {
   "cell_type": "code",
   "execution_count": 3,
   "metadata": {},
   "outputs": [],
   "source": [
    "train = pd.read_csv('../data/basketball_train.csv')\n",
    "test = pd.read_csv('../data/basketball_test.csv')"
   ]
  },
  {
   "cell_type": "markdown",
   "metadata": {},
   "source": [
    "### Grid Search를 이용하여 C와 gamma 구하기"
   ]
  },
  {
   "cell_type": "code",
   "execution_count": 4,
   "metadata": {},
   "outputs": [],
   "source": [
    "from sklearn.svm import SVC\n",
    "from sklearn.model_selection import GridSearchCV # c, gamma"
   ]
  },
  {
   "cell_type": "code",
   "execution_count": 5,
   "metadata": {},
   "outputs": [],
   "source": [
    "def svc_param_selection(X, y, nfolds):\n",
    "    svm_parameters = [\n",
    "        {\n",
    "            'kernel':['rbf'], # kernel이 linear이면 C Parameter만 사용\n",
    "            'gamma':[0.00001, 0.0001, 0.001, 0.01, 0.1, 1],\n",
    "            'C':[0.01, 0.1, 1, 10, 100, 1000]\n",
    "        }\n",
    "    ]\n",
    "    clf = GridSearchCV(SVC(), svm_parameters, cv=10)\n",
    "    clf.fit(X, y)\n",
    "    print(clf.best_params_)\n",
    "    return clf"
   ]
  },
  {
   "cell_type": "code",
   "execution_count": 8,
   "metadata": {},
   "outputs": [
    {
     "name": "stdout",
     "output_type": "stream",
     "text": [
      "{'C': 1, 'gamma': 1, 'kernel': 'rbf'}\n"
     ]
    }
   ],
   "source": [
    "x_train = train[['3P','BLK']]\n",
    "y_train = train['Pos']\n",
    "\n",
    "clf = svc_param_selection(x_train, y_train, 10) # svm C, gamma, kernel"
   ]
  },
  {
   "cell_type": "code",
   "execution_count": 9,
   "metadata": {},
   "outputs": [
    {
     "data": {
      "text/plain": [
       "0.95"
      ]
     },
     "execution_count": 9,
     "metadata": {},
     "output_type": "execute_result"
    }
   ],
   "source": [
    "x_test = test[['3P','BLK']]\n",
    "y_test = test['Pos']\n",
    "\n",
    "clf.score(x_test, y_test)"
   ]
  }
 ],
 "metadata": {
  "kernelspec": {
   "display_name": "Python 3.9.7 ('base')",
   "language": "python",
   "name": "python3"
  },
  "language_info": {
   "codemirror_mode": {
    "name": "ipython",
    "version": 3
   },
   "file_extension": ".py",
   "mimetype": "text/x-python",
   "name": "python",
   "nbconvert_exporter": "python",
   "pygments_lexer": "ipython3",
   "version": "3.9.7"
  },
  "orig_nbformat": 4,
  "vscode": {
   "interpreter": {
    "hash": "c34e8390e776d2ee205b71ed5a6130fee3cef8da5e87e926ce18e14f4a070d72"
   }
  }
 },
 "nbformat": 4,
 "nbformat_minor": 2
}
