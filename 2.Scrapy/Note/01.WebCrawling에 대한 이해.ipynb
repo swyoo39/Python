{
 "cells": [
  {
   "cell_type": "markdown",
   "metadata": {},
   "source": [
    "# Web Crawling이란?\n",
    "- Web Scraping이라고도 하며, Computer Software 기술로 각종 웹 사이트들에서 원하는 정보를 추출하는 것\n",
    "- 선행 학습 : Python 기초, HTML, CSS, JavaScript 구조 및 Tag들"
   ]
  },
  {
   "cell_type": "markdown",
   "metadata": {},
   "source": [
    "# Web Crawling 기법\n",
    "- HTML Page를 가져와서 HTML/CSS 등을 Parsing하고 필요한 데이터만 추출하는 기법\n",
    "- Open API(Rest API)를 제공하는 서비스에 Open API를 호출해서 받은 데이터 중 필요한 데이터만 추출하는 기법.\n",
    "- Web Browser를 Programming으로 조작하여 필요한 데이터만 추출하는 기법."
   ]
  },
  {
   "cell_type": "markdown",
   "metadata": {},
   "source": [
    "# Web Crawling의 합법 여부 판단\n",
    "- Site 명 뒤에 /robots.txt를 실행하여 허용범위 확인 > disallow : 불가\n",
    "- Job Korea vs 사람인\n",
    "- 야놀자 vs 여기어때"
   ]
  }
 ],
 "metadata": {
  "language_info": {
   "name": "python"
  },
  "orig_nbformat": 4
 },
 "nbformat": 4,
 "nbformat_minor": 2
}
